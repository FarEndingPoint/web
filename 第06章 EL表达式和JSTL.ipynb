{
 "cells": [
  {
   "cell_type": "markdown",
   "id": "b798c925",
   "metadata": {
    "toc": true
   },
   "source": [
    "<h1>第06章 EL表达式和JSTL<span class=\"tocSkip\"></span></h1>\n",
    "<div class=\"toc\"><ul class=\"toc-item\"><li><span><a href=\"#JSP-表达式\" data-toc-modified-id=\"JSP-表达式-1\"><span class=\"toc-item-num\">1&nbsp;&nbsp;</span>JSP 表达式</a></span><ul class=\"toc-item\"><li><span><a href=\"#初识EL\" data-toc-modified-id=\"初识EL-1.1\"><span class=\"toc-item-num\">1.1&nbsp;&nbsp;</span>初识EL</a></span></li><li><span><a href=\"#一个简单的语法\" data-toc-modified-id=\"一个简单的语法-1.2\"><span class=\"toc-item-num\">1.2&nbsp;&nbsp;</span>一个简单的语法</a></span></li><li><span><a href=\"#EL中的基础操作符\" data-toc-modified-id=\"EL中的基础操作符-1.3\"><span class=\"toc-item-num\">1.3&nbsp;&nbsp;</span>EL中的基础操作符</a></span></li><li><span><a href=\"#JSP-EL中的函数\" data-toc-modified-id=\"JSP-EL中的函数-1.4\"><span class=\"toc-item-num\">1.4&nbsp;&nbsp;</span>JSP EL中的函数</a></span></li><li><span><a href=\"#JSP-EL隐含对象\" data-toc-modified-id=\"JSP-EL隐含对象-1.5\"><span class=\"toc-item-num\">1.5&nbsp;&nbsp;</span>JSP EL隐含对象</a></span></li></ul></li><li><span><a href=\"#JSP-标准标签库（JSTL）\" data-toc-modified-id=\"JSP-标准标签库（JSTL）-2\"><span class=\"toc-item-num\">2&nbsp;&nbsp;</span>JSP 标准标签库（JSTL）</a></span><ul class=\"toc-item\"><li><span><a href=\"#JSTL-库安装\" data-toc-modified-id=\"JSTL-库安装-2.1\"><span class=\"toc-item-num\">2.1&nbsp;&nbsp;</span>JSTL 库安装</a></span></li><li><span><a href=\"#核心标签\" data-toc-modified-id=\"核心标签-2.2\"><span class=\"toc-item-num\">2.2&nbsp;&nbsp;</span>核心标签</a></span></li><li><span><a href=\"#格式化标签\" data-toc-modified-id=\"格式化标签-2.3\"><span class=\"toc-item-num\">2.3&nbsp;&nbsp;</span>格式化标签</a></span></li><li><span><a href=\"#SQL标签\" data-toc-modified-id=\"SQL标签-2.4\"><span class=\"toc-item-num\">2.4&nbsp;&nbsp;</span>SQL标签</a></span></li><li><span><a href=\"#XML-标签\" data-toc-modified-id=\"XML-标签-2.5\"><span class=\"toc-item-num\">2.5&nbsp;&nbsp;</span>XML 标签</a></span></li><li><span><a href=\"#JSTL函数\" data-toc-modified-id=\"JSTL函数-2.6\"><span class=\"toc-item-num\">2.6&nbsp;&nbsp;</span>JSTL函数</a></span></li><li><span><a href=\"#示例：在错误页面中使用JSTL标签\" data-toc-modified-id=\"示例：在错误页面中使用JSTL标签-2.7\"><span class=\"toc-item-num\">2.7&nbsp;&nbsp;</span>示例：在错误页面中使用JSTL标签</a></span></li></ul></li><li><span><a href=\"#JSP-自定义标签\" data-toc-modified-id=\"JSP-自定义标签-3\"><span class=\"toc-item-num\">3&nbsp;&nbsp;</span>JSP 自定义标签</a></span><ul class=\"toc-item\"><li><span><a href=\"#编写标签处理类\" data-toc-modified-id=\"编写标签处理类-3.1\"><span class=\"toc-item-num\">3.1&nbsp;&nbsp;</span>编写标签处理类</a></span></li><li><span><a href=\"#编写标签描述符\" data-toc-modified-id=\"编写标签描述符-3.2\"><span class=\"toc-item-num\">3.2&nbsp;&nbsp;</span>编写标签描述符</a></span></li><li><span><a href=\"#导入并使用自定义标签\" data-toc-modified-id=\"导入并使用自定义标签-3.3\"><span class=\"toc-item-num\">3.3&nbsp;&nbsp;</span>导入并使用自定义标签</a></span></li><li><span><a href=\"#示例：创建&quot;Hello&quot;标签\" data-toc-modified-id=\"示例：创建&quot;Hello&quot;标签-3.4\"><span class=\"toc-item-num\">3.4&nbsp;&nbsp;</span>示例：创建\"Hello\"标签</a></span></li></ul></li><li><span><a href=\"#小结\" data-toc-modified-id=\"小结-4\"><span class=\"toc-item-num\">4&nbsp;&nbsp;</span>小结</a></span></li><li><span><a href=\"#实验\" data-toc-modified-id=\"实验-5\"><span class=\"toc-item-num\">5&nbsp;&nbsp;</span>实验</a></span><ul class=\"toc-item\"><li><span><a href=\"#实验--JSP自定义标签\" data-toc-modified-id=\"实验--JSP自定义标签-5.1\"><span class=\"toc-item-num\">5.1&nbsp;&nbsp;</span>实验  JSP自定义标签</a></span></li></ul></li><li><span><a href=\"#作业\" data-toc-modified-id=\"作业-6\"><span class=\"toc-item-num\">6&nbsp;&nbsp;</span>作业</a></span></li></ul></div>"
   ]
  },
  {
   "cell_type": "markdown",
   "id": "9d24bf85",
   "metadata": {},
   "source": [
    "在 JSP 开发中,为了获取 Servlet 域对象中存储的数据,经常需要书写很多Java 代码,这样\n",
    "的做法会使 JSP 页面混乱,难以维护,为此,在 JSP 2.0规范中提供了 EL 表达式。EL 是Expression Language 缩写,它是一种简单的数据访问语言。本节将针对 EL 表达式进行详细的讲解。"
   ]
  },
  {
   "cell_type": "markdown",
   "id": "5ccdb243",
   "metadata": {},
   "source": [
    "# JSP 表达式"
   ]
  },
  {
   "cell_type": "markdown",
   "id": "96a76f0e",
   "metadata": {},
   "source": [
    "JSP表达式语言（EL）使得访问存储在JavaBean中的数据变得非常简单。JSP EL既可以用来创建算术表达式也可以用来创建逻辑表达式。在JSP EL表达式内可以使用整型数，浮点数，字符串，常量，true、false，还有null。"
   ]
  },
  {
   "cell_type": "markdown",
   "id": "d9d07eca",
   "metadata": {},
   "source": [
    "## 初识EL"
   ]
  },
  {
   "cell_type": "markdown",
   "id": "a1c56440",
   "metadata": {},
   "source": [
    "由于 EL 可以简化 JSP 页面的书写,因此,在JSP学习中,掌握EL相当重要的。要使用EL表达式,首先要学习它的语法。EL表达式的语法非常简单,都是以`${`符号开始,以`}`符号结束的,具体格式如下。\n",
    "```\n",
    "${表达式}\n",
    "```\n",
    "需要注意的是,“${表达式}”中的表达式必须符合EL语法要求。关于EL语法的相关知识,将在下面的小节进行详细讲解。\n",
    "\n",
    "为了证明 EL 表达式可以简化 JSP 页面,接下来通过一个案例来对比使用Java 代码与EL表达式获取信息的不同。\n",
    "\n",
    "首先,创建包 com.jsp.servlet,在包中创建一个用于存储用户名和密码的类MyServlet,代码如下所示。"
   ]
  },
  {
   "cell_type": "code",
   "execution_count": 28,
   "id": "0f170772",
   "metadata": {},
   "outputs": [
    {
     "name": "stdout",
     "output_type": "stream",
     "text": [
      "Overwriting E:\\apache-tomcat-9.0.13\\webapps\\ROOT\\WEB-INF\\classes\\com\\jsp\\servlet\\MyServlet.java\n"
     ]
    }
   ],
   "source": [
    "%%file E:\\apache-tomcat-9.0.13\\webapps\\ROOT\\WEB-INF\\classes\\com\\jsp\\servlet\\MyServlet.java\n",
    "package com.jsp.servlet;\n",
    "import java.io.*;\n",
    "import javax.servlet.*;\n",
    "import javax.servlet.http.*;\n",
    "public class MyServlet extends HttpServlet {\n",
    "\tpublic void doGet(HttpServletRequest request, \n",
    "      HttpServletResponse  response) throws ServletException, IOException {\n",
    "\t\trequest.setAttribute(\"username\", \"itcast\");\n",
    "\t\trequest.setAttribute(\"password\", \"123\");\n",
    "         RequestDispatcher dispatcher = request\n",
    "\t\t\t\t.getRequestDispatcher(\"ch06/example6_1.jsp\");\n",
    "\t\tdispatcher.forward(request, response);\n",
    "\t}\n",
    "\tpublic void doPost(HttpServletRequest request,\n",
    "      HttpServletResponse response) throws ServletException, IOException {\n",
    "\t\tdoGet(request, response);\n",
    "\t}\n",
    "}"
   ]
  },
  {
   "cell_type": "code",
   "execution_count": 29,
   "id": "f1cae6ab",
   "metadata": {},
   "outputs": [],
   "source": [
    "!javac -encoding UTF-8 E:\\apache-tomcat-9.0.13\\webapps\\ROOT\\WEB-INF\\classes\\com\\jsp\\servlet\\MyServlet.java"
   ]
  },
  {
   "cell_type": "markdown",
   "id": "6c0cf123",
   "metadata": {},
   "source": [
    "配置web.xml:"
   ]
  },
  {
   "cell_type": "raw",
   "id": "6ae0284c",
   "metadata": {},
   "source": [
    "<servlet>\n",
    "    <description></description>\n",
    "    <display-name>MyServlet</display-name>\n",
    "    <servlet-name>MyServlet</servlet-name>\n",
    "    <servlet-class>com.jsp.servlet.MyServlet</servlet-class>\n",
    "</servlet>\n",
    "<servlet-mapping>\n",
    "    <servlet-name>MyServlet</servlet-name>\n",
    "    <url-pattern>/MyServlet</url-pattern>\n",
    "</servlet-mapping>"
   ]
  },
  {
   "cell_type": "markdown",
   "id": "71f14f74",
   "metadata": {},
   "source": [
    "然后,编写一个名为 example6_1.jsp 文件,使用该文件来输出 MyServlet所存储的信息,代码如文件所示。"
   ]
  },
  {
   "cell_type": "code",
   "execution_count": 27,
   "id": "cae05ba2",
   "metadata": {},
   "outputs": [
    {
     "name": "stdout",
     "output_type": "stream",
     "text": [
      "Overwriting E:\\apache-tomcat-9.0.13\\webapps\\ROOT\\ch06\\example6_1.jsp\n"
     ]
    }
   ],
   "source": [
    "%%file E:\\apache-tomcat-9.0.13\\webapps\\ROOT\\ch06\\example6_1.jsp\n",
    "<%@ page language=\"java\" contentType=\"text/html; charset=utf-8\"\n",
    "\tpageEncoding=\"utf-8\"%>\n",
    "<html>\n",
    "<head></head>\n",
    "<body>\n",
    "    \n",
    "\t用户名：<%=request.getAttribute(\"username\")%><br /> \n",
    "\t密 码：<%=request.getAttribute(\"password\")%><br />\t\n",
    "</body>\n",
    "</html>"
   ]
  },
  {
   "cell_type": "markdown",
   "id": "83f31236",
   "metadata": {},
   "source": [
    "部署时,重新启动 Tomcat 服务器,在浏览器的地址栏中输入地址`http://127.0.0.1:8080/MyServlet`访问 MyServlet 页面。"
   ]
  },
  {
   "cell_type": "markdown",
   "id": "cf70603e",
   "metadata": {},
   "source": [
    "[点击MyServlet](http://127.0.0.1:8080/MyServlet),效果如图所示。"
   ]
  },
  {
   "attachments": {
    "image.png": {
     "image/png": "[encoded data removed]"
    }
   },
   "cell_type": "markdown",
   "id": "4e88ef46",
   "metadata": {},
   "source": [
    "![image.png](attachment:image.png)"
   ]
  },
  {
   "cell_type": "code",
   "execution_count": 30,
   "id": "7309516c",
   "metadata": {},
   "outputs": [
    {
     "name": "stdout",
     "output_type": "stream",
     "text": [
      "Overwriting E:\\apache-tomcat-9.0.13\\webapps\\ROOT\\ch06\\example6_1.jsp\n"
     ]
    }
   ],
   "source": [
    "%%file E:\\apache-tomcat-9.0.13\\webapps\\ROOT\\ch06\\example6_1.jsp\n",
    "<%@ page language=\"java\" contentType=\"text/html; charset=utf-8\"\n",
    "\tpageEncoding=\"utf-8\"%>\n",
    "<html>\n",
    "<head></head>\n",
    "<body>\n",
    "    \n",
    "\t用户名：<%=request.getAttribute(\"username\")%><br /> \n",
    "\t密 码：<%=request.getAttribute(\"password\")%><br />\t\n",
    "\t<hr>\n",
    "\t使用EL表达式:<br />\n",
    "\t用户名：${username}<br />\n",
    " \t密 码：${password}<br />\n",
    "\t\n",
    "</body>\n",
    "</html>"
   ]
  },
  {
   "cell_type": "markdown",
   "id": "fda4d4ba",
   "metadata": {},
   "source": [
    "[点击MyServlet](http://127.0.0.1:8080/MyServlet),效果如图所示。"
   ]
  },
  {
   "attachments": {
    "image.png": {
     "image/png": "[encoded data removed]"
    }
   },
   "cell_type": "markdown",
   "id": "42270b92",
   "metadata": {},
   "source": [
    "![image.png](attachment:image.png)"
   ]
  },
  {
   "cell_type": "markdown",
   "id": "ff88c48e",
   "metadata": {},
   "source": [
    "从图中可以看出,使用 EL 表达式同样可以成功获取 Servlet 存储的数据。同时,通过文件中两种方式的比较,发现EL表达式明显简化了JSP页面的书写,从而使程序简洁易维护。\n",
    "\n",
    "另外,当域对象里面的值不存在时,使用EL表达式方式获取域对象里面的值时返回空字符串;而使用Java方式获取,返回的值是null 时,会报空指针异常。所以,在实际开发中推荐使用EL表达式的方式获取域对象中存储的数据。\n"
   ]
  },
  {
   "cell_type": "markdown",
   "id": "10039533",
   "metadata": {},
   "source": [
    "## 一个简单的语法"
   ]
  },
  {
   "cell_type": "markdown",
   "id": "e6d17918",
   "metadata": {},
   "source": [
    "典型的，当您需要在JSP标签中指定一个属性值时，只需要简单地使用字符串即可："
   ]
  },
  {
   "cell_type": "raw",
   "id": "182f498a",
   "metadata": {},
   "source": [
    "<jsp:setProperty name=\"box\" property=\"perimeter\" value=\"100\"/>"
   ]
  },
  {
   "cell_type": "markdown",
   "id": "c37963c8",
   "metadata": {},
   "source": [
    "JSP EL允许您指定一个表达式来表示属性值。一个简单的表达式语法如下："
   ]
  },
  {
   "cell_type": "raw",
   "id": "32d32a3f",
   "metadata": {},
   "source": [
    "${expr}"
   ]
  },
  {
   "cell_type": "markdown",
   "id": "ad05d5b9",
   "metadata": {},
   "source": [
    "其中，expr指的是表达式。在JSP EL中通用的操作符是 `.` 和 `{}` 。这两个操作符允许通过内嵌的JSP对象访问各种各样的JavaBean属性。\n",
    "\n",
    "举例来说，上面的 `<jsp:setProperty>` 标签可以使用表达式语言改写成如下形式："
   ]
  },
  {
   "cell_type": "raw",
   "id": "f93d5923",
   "metadata": {},
   "source": [
    "<jsp:setProperty name=\"box\" property=\"perimeter\" \n",
    "                 value=\"${2*box.width+2*box.height}\"/>"
   ]
  },
  {
   "cell_type": "markdown",
   "id": "5b1b5164",
   "metadata": {},
   "source": [
    "当JSP编译器在属性中见到 `${}` 格式后，它会产生代码来计算这个表达式，并且产生一个替代品来代替表达式的值。\n",
    "\n",
    "您也可以在标签的模板文本中使用表达式语言。比如 `<jsp:text>` 标签简单地将其主体中的文本插入到JSP输出中："
   ]
  },
  {
   "cell_type": "raw",
   "id": "a1c61440",
   "metadata": {},
   "source": [
    "<jsp:text>\n",
    "<h1>Hello JSP!</h1>\n",
    "</jsp:text>"
   ]
  },
  {
   "cell_type": "markdown",
   "id": "b5c4c4ca",
   "metadata": {},
   "source": [
    "现在，在  `<jsp:text>` 标签主体中使用表达式，就像这样："
   ]
  },
  {
   "cell_type": "raw",
   "id": "aefa2cbd",
   "metadata": {},
   "source": [
    "<jsp:text>\n",
    "Box Perimeter is: ${2*box.width + 2*box.height}\n",
    "</jsp:text>"
   ]
  },
  {
   "cell_type": "markdown",
   "id": "c078c2b3",
   "metadata": {},
   "source": [
    "在EL表达式中可以使用圆括号来组织子表达式。比如 `${(1 + 2) * 3}` 等于9，但是 `${1 + (2 * 3)}` 等于7。\n",
    "\n",
    "想要停用对EL表达式的评估的话，需要使用page指令将 `isELIgnored` 属性值设为 `true`："
   ]
  },
  {
   "cell_type": "raw",
   "id": "ad9f3ba6",
   "metadata": {},
   "source": [
    "<%@ page isELIgnored =\"true|false\" %>"
   ]
  },
  {
   "cell_type": "markdown",
   "id": "b465e311",
   "metadata": {},
   "source": [
    "这样，EL表达式就会被忽略。若设为 `false`，则容器将会计算EL表达式。"
   ]
  },
  {
   "cell_type": "markdown",
   "id": "09554c52",
   "metadata": {},
   "source": [
    "## EL中的基础操作符"
   ]
  },
  {
   "cell_type": "markdown",
   "id": "76e12e49",
   "metadata": {},
   "source": [
    "1. EL中的标识符\n",
    "\n",
    "- 不能以数字开头。\n",
    "- 不能是EL 的保留字,如 and,or,gt\n",
    "- 不能是EL式对象,如 pageContext\n",
    "- 不能包含单引号('),双引号(\"),减号(-)和正斜杠(/)等特殊字符。\n",
    "\n",
    "合法的EL标识符:\n",
    "```\n",
    "username\n",
    "username123\n",
    "user_name\n",
    "_userName\n",
    "\n",
    "```\n",
    "不合法的EL标识符:\n",
    "```\n",
    "123username\n",
    "or\n",
    "user\"name\n",
    "pageContext\n",
    "```"
   ]
  },
  {
   "cell_type": "markdown",
   "id": "2eab4bee",
   "metadata": {},
   "source": [
    "2. EL中的保留字\n",
    "\n",
    "保留字就是编程语言里事先定义好并赋予了特殊含义的单词，和其他语言一样，EL表达式中也定义了许多保留字，如false、not等，接下来就列举EL中所有的保留字，具体如下：\n",
    "\n",
    "```\n",
    "and\t     eq\t       gt\t       true\t       instanceof\t\n",
    "or\t     ne\t       le\t       false\t       empty\t\n",
    "not\t     lt\t       ge\t       null\t       div\t       mod\n",
    "```\n",
    "需要注意的是，EL表达式中的这些保留字不能被作为标识符，以免在程序编译时发生错误。"
   ]
  },
  {
   "cell_type": "markdown",
   "id": "74c2f1db",
   "metadata": {},
   "source": [
    "3. EL中的变量\n",
    "\n",
    "EL表达式中的变量就是一个基本的存储单元，EL表达式可以将变量映射到一个对象上，具体示例如下所示：\n",
    "```\n",
    "${product}\n",
    "\n",
    "```\n",
    "product就是一个变量。EL表达式中的变量不用事先定义就可以直接使用，例如，表达式`${product}`就可以访问变量product的值。\n"
   ]
  },
  {
   "cell_type": "markdown",
   "id": "be36b30a",
   "metadata": {},
   "source": [
    "4. EL中的常量\n",
    "\n",
    "EL表达式中的常量又称字面量,它是不能改变的数据。包括布尔常量、整型常量、浮点数常量、字符串常量和Null常量。"
   ]
  },
  {
   "cell_type": "markdown",
   "id": "317a65f2",
   "metadata": {},
   "source": [
    "5. EL中的运算符"
   ]
  },
  {
   "cell_type": "markdown",
   "id": "3f3cad8a",
   "metadata": {},
   "source": [
    "EL表达式支持大部分Java所提供的算术和逻辑操作符："
   ]
  },
  {
   "cell_type": "markdown",
   "id": "78c24c3e",
   "metadata": {},
   "source": [
    "<table class=\"reference\">\n",
    "\t<tbody>\n",
    "\t\t<tr>\n",
    "\t\t\t<th>\n",
    "\t\t\t\t<strong>操作符</strong></th>\n",
    "\t\t\t<th>\n",
    "\t\t\t\t<strong>描述</strong></th>\n",
    "\t\t</tr>\n",
    "\t\t<tr>\n",
    "\t\t\t<td>\n",
    "\t\t\t\t.</td>\n",
    "\t\t\t<td>\n",
    "\t\t\t\t访问一个Bean属性或者一个映射条目</td>\n",
    "\t\t</tr>\n",
    "\t\t<tr>\n",
    "\t\t\t<td>\n",
    "\t\t\t\t[]</td>\n",
    "\t\t\t<td>\n",
    "\t\t\t\t访问一个数组或者链表的元素</td>\n",
    "\t\t</tr>\n",
    "\t\t<tr>\n",
    "\t\t\t<td>\n",
    "\t\t\t\t( )</td>\n",
    "\t\t\t<td>\n",
    "\t\t\t\t组织一个子表达式以改变优先级</td>\n",
    "\t\t</tr>\n",
    "\t\t<tr>\n",
    "\t\t\t<td>\n",
    "\t\t\t\t+</td>\n",
    "\t\t\t<td>\n",
    "\t\t\t\t加</td>\n",
    "\t\t</tr>\n",
    "\t\t<tr>\n",
    "\t\t\t<td>\n",
    "\t\t\t\t-</td>\n",
    "\t\t\t<td>\n",
    "\t\t\t\t减或负</td>\n",
    "\t\t</tr>\n",
    "\t\t<tr>\n",
    "\t\t\t<td>\n",
    "\t\t\t\t*</td>\n",
    "\t\t\t<td>\n",
    "\t\t\t\t乘</td>\n",
    "\t\t</tr>\n",
    "\t\t<tr>\n",
    "\t\t\t<td>\n",
    "\t\t\t\t/ or div</td>\n",
    "\t\t\t<td>\n",
    "\t\t\t\t除</td>\n",
    "\t\t</tr>\n",
    "\t\t<tr>\n",
    "\t\t\t<td>\n",
    "\t\t\t\t% or mod</td>\n",
    "\t\t\t<td>\n",
    "\t\t\t\t取模</td>\n",
    "\t\t</tr>\n",
    "\t\t<tr>\n",
    "\t\t\t<td>\n",
    "\t\t\t\t== or eq</td>\n",
    "\t\t\t<td>\n",
    "\t\t\t\t测试是否相等</td>\n",
    "\t\t</tr>\n",
    "\t\t<tr>\n",
    "\t\t\t<td>\n",
    "\t\t\t\t!= or ne</td>\n",
    "\t\t\t<td>\n",
    "\t\t\t\t测试是否不等</td>\n",
    "\t\t</tr>\n",
    "\t\t<tr>\n",
    "\t\t\t<td>\n",
    "\t\t\t\t&lt; or lt</td>\n",
    "\t\t\t<td>\n",
    "\t\t\t\t测试是否小于</td>\n",
    "\t\t</tr>\n",
    "\t\t<tr>\n",
    "\t\t\t<td>\n",
    "\t\t\t\t&gt; or gt</td>\n",
    "\t\t\t<td>\n",
    "\t\t\t\t测试是否大于</td>\n",
    "\t\t</tr>\n",
    "\t\t<tr>\n",
    "\t\t\t<td>\n",
    "\t\t\t\t&lt;= or le</td>\n",
    "\t\t\t<td>\n",
    "\t\t\t\t测试是否小于等于</td>\n",
    "\t\t</tr>\n",
    "\t\t<tr>\n",
    "\t\t\t<td>\n",
    "\t\t\t\t&gt;= or ge</td>\n",
    "\t\t\t<td>\n",
    "\t\t\t\t测试是否大于等于</td>\n",
    "\t\t</tr>\n",
    "\t\t<tr>\n",
    "\t\t\t<td>\n",
    "\t\t\t\t&amp;&amp; or and</td>\n",
    "\t\t\t<td>\n",
    "\t\t\t\t测试逻辑与</td>\n",
    "\t\t</tr>\n",
    "\t\t<tr>\n",
    "\t\t\t<td>\n",
    "\t\t\t\t|| or or</td>\n",
    "\t\t\t<td>\n",
    "\t\t\t\t测试逻辑或</td>\n",
    "\t\t</tr>\n",
    "\t\t<tr>\n",
    "\t\t\t<td>\n",
    "\t\t\t\t! or not</td>\n",
    "\t\t\t<td>\n",
    "\t\t\t\t测试取反</td>\n",
    "\t\t</tr>\n",
    "\t\t<tr>\n",
    "\t\t\t<td>\n",
    "\t\t\t\tempty</td>\n",
    "\t\t\t<td>\n",
    "\t\t\t\t测试是否空值</td>\n",
    "\t\t</tr>\n",
    "\t</tbody>\n",
    "</table>"
   ]
  },
  {
   "cell_type": "markdown",
   "id": "ceff6956",
   "metadata": {},
   "source": [
    "## JSP EL中的函数"
   ]
  },
  {
   "cell_type": "markdown",
   "id": "8837ebca",
   "metadata": {},
   "source": [
    "JSP EL允许您在表达式中使用函数。这些函数必须被定义在自定义标签库中。函数的使用语法如下："
   ]
  },
  {
   "cell_type": "raw",
   "id": "d0a03c84",
   "metadata": {},
   "source": [
    "${ns:func(param1, param2, ...)}"
   ]
  },
  {
   "cell_type": "markdown",
   "id": "1820d4ac",
   "metadata": {},
   "source": [
    "ns指的是命名空间（namespace），func指的是函数的名称，param1指的是第一个参数，param2指的是第二个参数，以此类推。比如，有函数fn:length，在JSTL库中定义，可以像下面这样来获取一个字符串的长度："
   ]
  },
  {
   "cell_type": "raw",
   "id": "1d349e96",
   "metadata": {},
   "source": [
    "${fn:length(\"Get my length\")}"
   ]
  },
  {
   "cell_type": "markdown",
   "id": "745bf294",
   "metadata": {},
   "source": [
    "要使用任何标签库中的函数，您需要将这些库安装在服务器中，然后使用<taglib>标签在JSP文件中包含这些库。"
   ]
  },
  {
   "cell_type": "markdown",
   "id": "c6368691",
   "metadata": {},
   "source": [
    "## JSP EL隐含对象"
   ]
  },
  {
   "cell_type": "markdown",
   "id": "aa312346",
   "metadata": {},
   "source": [
    "JSP EL支持下表列出的隐含对象："
   ]
  },
  {
   "cell_type": "markdown",
   "id": "c4d02625",
   "metadata": {},
   "source": [
    "<table class=\"reference\">\n",
    "\t<tbody>\n",
    "\t\t<tr>\n",
    "\t\t\t<th>\n",
    "\t\t\t\t<strong>隐含对象</strong></th>\n",
    "\t\t\t<th>\n",
    "\t\t\t\t<strong>描述</strong></th>\n",
    "\t\t</tr>\n",
    "\t\t<tr>\n",
    "\t\t\t<td>\n",
    "\t\t\t\tpageScope</td>\n",
    "\t\t\t<td>\n",
    "\t\t\t\tpage 作用域</td>\n",
    "\t\t</tr>\n",
    "\t\t<tr>\n",
    "\t\t\t<td>\n",
    "\t\t\t\trequestScope</td>\n",
    "\t\t\t<td>\n",
    "\t\t\t\trequest 作用域</td>\n",
    "\t\t</tr>\n",
    "\t\t<tr>\n",
    "\t\t\t<td>\n",
    "\t\t\t\tsessionScope</td>\n",
    "\t\t\t<td>\n",
    "\t\t\t\tsession 作用域</td>\n",
    "\t\t</tr>\n",
    "\t\t<tr>\n",
    "\t\t\t<td>\n",
    "\t\t\t\tapplicationScope</td>\n",
    "\t\t\t<td>\n",
    "\t\t\t\tapplication 作用域</td>\n",
    "\t\t</tr>\n",
    "\t\t<tr>\n",
    "\t\t\t<td>\n",
    "\t\t\t\tparam</td>\n",
    "\t\t\t<td>\n",
    "\t\t\t\tRequest 对象的参数，字符串</td>\n",
    "\t\t</tr>\n",
    "\t\t<tr>\n",
    "\t\t\t<td>\n",
    "\t\t\t\tparamValues</td>\n",
    "\t\t\t<td>\n",
    "\t\t\t\tRequest对象的参数，字符串集合</td>\n",
    "\t\t</tr>\n",
    "\t\t<tr>\n",
    "\t\t\t<td>\n",
    "\t\t\t\theader</td>\n",
    "\t\t\t<td>\n",
    "\t\t\t\tHTTP 信息头，字符串</td>\n",
    "\t\t</tr>\n",
    "\t\t<tr>\n",
    "\t\t\t<td>\n",
    "\t\t\t\theaderValues</td>\n",
    "\t\t\t<td>\n",
    "\t\t\t\tHTTP 信息头，字符串集合</td>\n",
    "\t\t</tr>\n",
    "\t\t<tr>\n",
    "\t\t\t<td>\n",
    "\t\t\t\tinitParam</td>\n",
    "\t\t\t<td>\n",
    "\t\t\t\t上下文初始化参数</td>\n",
    "\t\t</tr>\n",
    "\t\t<tr>\n",
    "\t\t\t<td>\n",
    "\t\t\t\tcookie</td>\n",
    "\t\t\t<td>\n",
    "\t\t\t\tCookie值</td>\n",
    "\t\t</tr>\n",
    "\t\t<tr>\n",
    "\t\t\t<td>\n",
    "\t\t\t\tpageContext</td>\n",
    "\t\t\t<td>\n",
    "\t\t\t\t当前页面的pageContext</td>\n",
    "\t\t</tr>\n",
    "\t</tbody>\n",
    "</table>"
   ]
  },
  {
   "cell_type": "markdown",
   "id": "ae3ecc4f",
   "metadata": {},
   "source": [
    "您可以在表达式中使用这些对象，就像使用变量一样。接下来会给出几个例子来更好的理解这个概念。"
   ]
  },
  {
   "cell_type": "markdown",
   "id": "046bf744",
   "metadata": {},
   "source": [
    "1. pageContext对象"
   ]
  },
  {
   "cell_type": "markdown",
   "id": "31f488fb",
   "metadata": {},
   "source": [
    "pageContext对象是JSP中pageContext对象的引用。通过pageContext对象，您可以访问request对象。比如，访问request对象传入的查询字符串，就像这样："
   ]
  },
  {
   "cell_type": "raw",
   "id": "6f046d02",
   "metadata": {},
   "source": [
    "${pageContext.request.queryString}"
   ]
  },
  {
   "cell_type": "markdown",
   "id": "74575312",
   "metadata": {},
   "source": [
    "2. Scope对象"
   ]
  },
  {
   "cell_type": "markdown",
   "id": "c07dff4d",
   "metadata": {},
   "source": [
    "pageScope，requestScope，sessionScope，applicationScope变量用来访问存储在各个作用域层次的变量。\n",
    "\n",
    "举例来说，如果您需要显式访问在applicationScope层的box变量，可以这样来访问：applicationScope.box。"
   ]
  },
  {
   "cell_type": "markdown",
   "id": "072a4fae",
   "metadata": {},
   "source": [
    "3. param和paramValues对象"
   ]
  },
  {
   "cell_type": "markdown",
   "id": "14daf4d4",
   "metadata": {},
   "source": [
    "param和paramValues对象用来访问参数值，通过使用request.getParameter方法和request.getParameterValues方法。\n",
    "\n",
    "举例来说，访问一个名为order的参数，可以这样使用表达式：${param.order}，或者${param[\"order\"]}。\n",
    "\n",
    "接下来的例子表明了如何访问request中的username参数："
   ]
  },
  {
   "cell_type": "code",
   "execution_count": 31,
   "id": "c707e2cf",
   "metadata": {},
   "outputs": [
    {
     "name": "stdout",
     "output_type": "stream",
     "text": [
      "Overwriting E:\\apache-tomcat-9.0.13\\webapps\\ROOT\\ch06\\example6_2.jsp\n"
     ]
    }
   ],
   "source": [
    "%%file E:\\apache-tomcat-9.0.13\\webapps\\ROOT\\ch06\\example6_2.jsp\n",
    "<%@ page import=\"java.io.*,java.util.*\" %>\n",
    "<%\n",
    "    String title = \"Accessing Request Param\";\n",
    "%>\n",
    "<html>\n",
    "<head>\n",
    "    <title><% out.print(title); %></title>\n",
    "</head>\n",
    "<body>\n",
    "<center>\n",
    "    <h1><% out.print(title); %></h1>\n",
    "</center>\n",
    "<div align=\"center\">\n",
    "    <p>${param[\"username\"]}</p>\n",
    "</div>\n",
    "</body>\n",
    "</html>"
   ]
  },
  {
   "cell_type": "markdown",
   "id": "c7ec7c31",
   "metadata": {},
   "source": [
    "param对象返回单一的字符串，而paramValues对象则返回一个字符串数组。"
   ]
  },
  {
   "cell_type": "markdown",
   "id": "3a467d73",
   "metadata": {},
   "source": [
    "[点击example6_2.jsp](http://127.0.0.1:8080/ch06/example6_2.jsp),效果如图所示。"
   ]
  },
  {
   "attachments": {
    "image.png": {
     "image/png": "[encoded data removed]"
    }
   },
   "cell_type": "markdown",
   "id": "26d5e08f",
   "metadata": {},
   "source": [
    "![image.png](attachment:image.png)"
   ]
  },
  {
   "cell_type": "markdown",
   "id": "5dbc92f6",
   "metadata": {},
   "source": [
    "4. header和headerValues对象"
   ]
  },
  {
   "cell_type": "markdown",
   "id": "f556be5c",
   "metadata": {},
   "source": [
    "header和headerValues对象用来访问信息头，通过使用 request.getHeader方法和request.getHeaders方法。\n",
    "\n",
    "举例来说，要访问一个名为user-agent的信息头，可以这样使用表达式：${header.user-agent}，或者${header[\"user-agent\"]}。\n",
    "\n",
    "接下来的例子表明了如何访问user-agent信息头："
   ]
  },
  {
   "cell_type": "code",
   "execution_count": 32,
   "id": "b8cad907",
   "metadata": {},
   "outputs": [
    {
     "name": "stdout",
     "output_type": "stream",
     "text": [
      "Overwriting E:\\apache-tomcat-9.0.13\\webapps\\ROOT\\ch06\\example6_3.jsp\n"
     ]
    }
   ],
   "source": [
    "%%file E:\\apache-tomcat-9.0.13\\webapps\\ROOT\\ch06\\example6_3.jsp\n",
    "<%@ page import=\"java.io.*,java.util.*\" %>\n",
    "<%\n",
    "    String title = \"User Agent Example\";\n",
    "%>\n",
    "<html>\n",
    "<head>\n",
    "    <title><% out.print(title); %></title>\n",
    "</head>\n",
    "<body>\n",
    "<center>\n",
    "    <h1><% out.print(title); %></h1>\n",
    "</center>\n",
    "<div align=\"center\">\n",
    "    <p>${header[\"user-agent\"]}</p>\n",
    "</div>\n",
    "</body>\n",
    "</html>"
   ]
  },
  {
   "cell_type": "markdown",
   "id": "0e67d3b8",
   "metadata": {},
   "source": [
    "[点击example6_3.jsp](http://127.0.0.1:8080/ch06/example6_3.jsp),效果如图所示。"
   ]
  },
  {
   "attachments": {
    "image.png": {
     "image/png": "[encoded data removed]"
    }
   },
   "cell_type": "markdown",
   "id": "42798519",
   "metadata": {},
   "source": [
    "![image.png](attachment:image.png)"
   ]
  },
  {
   "cell_type": "markdown",
   "id": "5b83dffb",
   "metadata": {},
   "source": [
    "header对象返回单一值，而headerValues则返回一个字符串数组。"
   ]
  },
  {
   "cell_type": "markdown",
   "id": "0b1033c1",
   "metadata": {},
   "source": [
    "# JSP 标准标签库（JSTL）"
   ]
  },
  {
   "cell_type": "markdown",
   "id": "20c74a43",
   "metadata": {},
   "source": [
    "从JSP1.1规范开始，JSP就支持使用自定义标签，使用自定义标签大大降低了JSP页面的复杂度，同时增强了代码的重用性。\n",
    "\n",
    "为此，许多Web应用厂商都定制了自身应用的标签库，然而同一功能的标签由不同的Web应用厂商制定可能是不同的，这就导致市面上出现了很多功能相同的标签，令网页制作者无从选择。\n",
    "\n",
    "为了解决同一功能标签的不统一问题，Sun公司制定了一套标准标签库（JavaServer Pages Standard Tag Library），简称JSTL。"
   ]
  },
  {
   "cell_type": "markdown",
   "id": "361e2579",
   "metadata": {},
   "source": [
    "JSP标准标签库（JSTL）是一个JSP标签集合，它封装了JSP应用的通用核心功能。\n",
    "\n",
    "JSTL支持通用的、结构化的任务，比如迭代，条件判断，XML文档操作，国际化标签，SQL标签。 除了这些，它还提供了一个框架来使用集成JSTL的自定义标签。\n",
    "\n",
    "JSTL虽然被称为标准标签库，而实际上这个标签库是由5个不同功能的标签库共同组成。在JSTL1.1规范中，为这5个标签库分别指定了不同的URI以及建议使用的前缀。\n",
    "\n",
    "- 核心标签\n",
    "- 格式化标签\n",
    "- SQL 标签\n",
    "- XML 标签\n",
    "- JSTL 函数"
   ]
  },
  {
   "cell_type": "markdown",
   "id": "378bb57d",
   "metadata": {},
   "source": [
    "##  JSTL 库安装"
   ]
  },
  {
   "cell_type": "markdown",
   "id": "cc4aaa00",
   "metadata": {},
   "source": [
    "Apache Tomcat安装JSTL 库步骤如下：\n",
    "\n",
    "从Apache的标准标签库中下载的二进包(jakarta-taglibs-standard-current.zip)。\n",
    "\n",
    "官方下载地址：http://archive.apache.org/dist/jakarta/taglibs/standard/binaries/\n",
    "\n",
    "讲义文件：jakarta-taglibs-standard-1.1.2.zip\n",
    "\n",
    "下载 jakarta-taglibs-standard-1.1.2.zip 包并解压，将 jakarta-taglibs-standard-1.1.2/lib/ 下的两个 jar 文件：standard.jar 和 jstl.jar 文件拷贝到 E:\\apache-tomcat-9.0.13\\webapps\\ROOT\\WEB-INF\\lib 下。\n",
    "\n",
    "将 tld 下的需要引入的 tld 文件复制到 WEB-INF 目录下。\n",
    "\n",
    "接下来我们在 web.xml 文件中添加以下配置："
   ]
  },
  {
   "cell_type": "raw",
   "id": "c41a301f",
   "metadata": {},
   "source": [
    "<web-app>\n",
    "    ........\n",
    "    <jsp-config>\n",
    "        <taglib>\n",
    "            <taglib-uri>http://java.sun.com/jsp/jstl/fmt</taglib-uri>\n",
    "            <taglib-location>/WEB-INF/fmt.tld</taglib-location>\n",
    "        </taglib>\n",
    "        <taglib>\n",
    "            <taglib-uri>http://java.sun.com/jsp/jstl/fmt-rt</taglib-uri>\n",
    "            <taglib-location>/WEB-INF/fmt-rt.tld</taglib-location>\n",
    "        </taglib>\n",
    "        <taglib>\n",
    "            <taglib-uri>http://java.sun.com/jsp/jstl/core</taglib-uri>\n",
    "            <taglib-location>/WEB-INF/c.tld</taglib-location>\n",
    "        </taglib>\n",
    "        <taglib>\n",
    "            <taglib-uri>http://java.sun.com/jsp/jstl/core-rt</taglib-uri>\n",
    "            <taglib-location>/WEB-INF/c-rt.tld</taglib-location>\n",
    "        </taglib>\n",
    "        <taglib>\n",
    "            <taglib-uri>http://java.sun.com/jsp/jstl/sql</taglib-uri>\n",
    "            <taglib-location>/WEB-INF/sql.tld</taglib-location>\n",
    "        </taglib>\n",
    "        <taglib>\n",
    "            <taglib-uri>http://java.sun.com/jsp/jstl/sql-rt</taglib-uri>\n",
    "            <taglib-location>/WEB-INF/sql-rt.tld</taglib-location>\n",
    "        </taglib>\n",
    "        <taglib>\n",
    "            <taglib-uri>http://java.sun.com/jsp/jstl/x</taglib-uri>\n",
    "            <taglib-location>/WEB-INF/x.tld</taglib-location>\n",
    "        </taglib>\n",
    "        <taglib>\n",
    "            <taglib-uri>http://java.sun.com/jsp/jstl/x-rt</taglib-uri>\n",
    "            <taglib-location>/WEB-INF/x-rt.tld</taglib-location>\n",
    "        </taglib>\n",
    "    </jsp-config>\n",
    "   \n",
    "</web-app>"
   ]
  },
  {
   "cell_type": "markdown",
   "id": "0f544e6b",
   "metadata": {},
   "source": [
    "使用任何库，你必须在每个 JSP 文件中的头部包含 <taglib> 标签。"
   ]
  },
  {
   "cell_type": "markdown",
   "id": "8dbc403b",
   "metadata": {},
   "source": [
    "## 核心标签"
   ]
  },
  {
   "cell_type": "markdown",
   "id": "3d357b17",
   "metadata": {},
   "source": [
    "核心标签是最常用的 JSTL标签。引用核心标签库的语法如下："
   ]
  },
  {
   "cell_type": "raw",
   "id": "aaf88848",
   "metadata": {},
   "source": [
    "<%@ taglib prefix=\"c\" uri=\"http://java.sun.com/jsp/jstl/core\" %>"
   ]
  },
  {
   "cell_type": "markdown",
   "id": "c686b3ba",
   "metadata": {},
   "source": [
    "<table class=\"reference\">\n",
    "\t<tbody>\n",
    "\t\t<tr>\n",
    "\t\t\t<th>\n",
    "\t\t\t\t标签</th>\n",
    "\t\t\t<th>\n",
    "\t\t\t\t描述</th>\n",
    "\t\t</tr>\n",
    "\t\t<tr>\n",
    "\t\t\t<td>\n",
    "\t\t\t\t<a href=\"/jsp/jstl-core-out-tag.html\" target=\"_blank\" rel=\"noopener noreferrer\">&lt;c:out&gt;</a></td>\n",
    "\t\t\t<td>\n",
    "\t\t\t\t用于在JSP中显示数据，就像&lt;%= ... &gt;</td>\n",
    "\t\t</tr>\n",
    "\t\t<tr>\n",
    "\t\t\t<td>\n",
    "\t\t\t\t<a href=\"/jsp/jstl-core-set-tag.html\" target=\"_blank\" rel=\"noopener noreferrer\">&lt;c:set&gt;</a></td>\n",
    "\t\t\t<td>\n",
    "\t\t\t\t用于保存数据</td>\n",
    "\t\t</tr>\n",
    "\t\t<tr>\n",
    "\t\t\t<td>\n",
    "\t\t\t\t<a href=\"/jsp/jstl-core-remove-tag.html\" target=\"_blank\" rel=\"noopener noreferrer\">&lt;c:remove&gt;</a></td>\n",
    "\t\t\t<td>\n",
    "\t\t\t\t用于删除数据</td>\n",
    "\t\t</tr>\n",
    "\t\t<tr>\n",
    "\t\t\t<td>\n",
    "\t\t\t\t<a href=\"/jsp/jstl-core-catch-tag.html\" target=\"_blank\" rel=\"noopener noreferrer\">&lt;c:catch&gt;</a></td>\n",
    "\t\t\t<td>\n",
    "\t\t\t\t用来处理产生错误的异常状况，并且将错误信息储存起来</td>\n",
    "\t\t</tr>\n",
    "\t\t<tr>\n",
    "\t\t\t<td>\n",
    "\t\t\t\t<a href=\"/jsp/jstl-core-if-tag.html\" target=\"_blank\" rel=\"noopener noreferrer\">&lt;c:if&gt;</a></td>\n",
    "\t\t\t<td>\n",
    "\t\t\t\t与我们在一般程序中用的if一样</td>\n",
    "\t\t</tr>\n",
    "\t\t<tr>\n",
    "\t\t\t<td>\n",
    "\t\t\t\t<a href=\"/jsp/jstl-core-choose-tag.html\" target=\"_blank\" rel=\"noopener noreferrer\">&lt;c:choose&gt;</a></td>\n",
    "\t\t\t<td>\n",
    "\t\t\t\t本身只当做&lt;c:when&gt;和&lt;c:otherwise&gt;的父标签</td>\n",
    "\t\t</tr>\n",
    "\t\t<tr>\n",
    "\t\t\t<td>\n",
    "\t\t\t\t<a href=\"/jsp/jstl-core-choose-tag.html\" target=\"_blank\" rel=\"noopener noreferrer\">&lt;c:when&gt;</a></td>\n",
    "\t\t\t<td>\n",
    "\t\t\t\t&lt;c:choose&gt;的子标签，用来判断条件是否成立</td>\n",
    "\t\t</tr>\n",
    "\t\t<tr>\n",
    "\t\t\t<td>\n",
    "\t\t\t\t<a href=\"/jsp/jstl-core-choose-tag.html\" target=\"_blank\" rel=\"noopener noreferrer\">&lt;c:otherwise&gt;</a></td>\n",
    "\t\t\t<td>\n",
    "\t\t\t\t&lt;c:choose&gt;的子标签，接在&lt;c:when&gt;标签后，当&lt;c:when&gt;标签判断为false时被执行</td>\n",
    "\t\t</tr>\n",
    "\t\t<tr>\n",
    "\t\t\t<td>\n",
    "\t\t\t\t<a href=\"/jsp/jstl-core-import-tag.html\" target=\"_blank\" rel=\"noopener noreferrer\">&lt;c:import&gt;</a></td>\n",
    "\t\t\t<td>\n",
    "\t\t\t\t检索一个绝对或相对 URL，然后将其内容暴露给页面</td>\n",
    "\t\t</tr>\n",
    "\t\t<tr>\n",
    "\t\t\t<td>\n",
    "\t\t\t\t<a href=\"/jsp/jstl-core-foreach-tag.html\" target=\"_blank\" rel=\"noopener noreferrer\">&lt;c:forEach&gt;</a></td>\n",
    "\t\t\t<td>\n",
    "\t\t\t\t基础迭代标签，接受多种集合类型</td>\n",
    "\t\t</tr>\n",
    "\t\t<tr>\n",
    "\t\t\t<td>\n",
    "\t\t\t\t<a href=\"/jsp/jstl-core-foreach-tag.html\" target=\"_blank\" rel=\"noopener noreferrer\">&lt;c:forTokens&gt;</a></td>\n",
    "\t\t\t<td>\n",
    "\t\t\t\t根据指定的分隔符来分隔内容并迭代输出</td>\n",
    "\t\t</tr>\n",
    "\t\t<tr>\n",
    "\t\t\t<td>\n",
    "\t\t\t\t<a href=\"/jsp/jstl-core-param-tag.html\" target=\"_blank\" rel=\"noopener noreferrer\">&lt;c:param&gt;</a></td>\n",
    "\t\t\t<td>\n",
    "\t\t\t\t用来给包含或重定向的页面传递参数</td>\n",
    "\t\t</tr>\n",
    "\t\t<tr>\n",
    "\t\t\t<td>\n",
    "\t\t\t\t<a href=\"/jsp/jstl-core-redirect-tag.html\" target=\"_blank\" rel=\"noopener noreferrer\">&lt;c:redirect&gt;</a></td>\n",
    "\t\t\t<td>\n",
    "\t\t\t\t重定向至一个新的URL.</td>\n",
    "\t\t</tr>\n",
    "\t\t<tr>\n",
    "\t\t\t<td>\n",
    "\t\t\t\t<a href=\"/jsp/jstl-core-url-tag.html\" target=\"_blank\" rel=\"noopener noreferrer\">&lt;c:url&gt;</a></td>\n",
    "\t\t\t<td>\n",
    "\t\t\t\t使用可选的查询参数来创造一个URL</td>\n",
    "\t\t</tr>\n",
    "\t</tbody>\n",
    "</table>"
   ]
  },
  {
   "cell_type": "markdown",
   "id": "340aff33",
   "metadata": {},
   "source": [
    "## 格式化标签"
   ]
  },
  {
   "cell_type": "markdown",
   "id": "41b1c02f",
   "metadata": {},
   "source": [
    "JSTL格式化标签用来格式化并输出文本、日期、时间、数字。引用格式化标签库的语法如下："
   ]
  },
  {
   "cell_type": "raw",
   "id": "4731349f",
   "metadata": {},
   "source": [
    "<%@ taglib prefix=\"fmt\" uri=\"http://java.sun.com/jsp/jstl/fmt\" %>"
   ]
  },
  {
   "cell_type": "markdown",
   "id": "ae6f7bbb",
   "metadata": {},
   "source": [
    "<table class=\"reference\">\n",
    "\t<tbody>\n",
    "\t\t<tr>\n",
    "\t\t\t<th>\n",
    "\t\t\t\t标签</th>\n",
    "\t\t\t<th>\n",
    "\t\t\t\t描述</th>\n",
    "\t\t</tr>\n",
    "\t\t<tr>\n",
    "\t\t\t<td>\n",
    "\t\t\t\t<a href=\"/jsp/jstl-format-formatnumber-tag.html\" target=\"_blank\" rel=\"noopener noreferrer\">&lt;fmt:formatNumber&gt;</a></td>\n",
    "\t\t\t<td>\n",
    "\t\t\t\t使用指定的格式或精度格式化数字</td>\n",
    "\t\t</tr>\n",
    "\t\t<tr>\n",
    "\t\t\t<td>\n",
    "\t\t\t\t<a href=\"/jsp/jstl-format-parsenumber-tag.html\" target=\"_blank\" rel=\"noopener noreferrer\">&lt;fmt:parseNumber&gt;</a></td>\n",
    "\t\t\t<td>\n",
    "\t\t\t\t解析一个代表着数字，货币或百分比的字符串</td>\n",
    "\t\t</tr>\n",
    "\t\t<tr>\n",
    "\t\t\t<td>\n",
    "\t\t\t\t<a href=\"/jsp/jstl-format-formatdate-tag.html\" target=\"_blank\" rel=\"noopener noreferrer\">&lt;fmt:formatDate&gt;</a></td>\n",
    "\t\t\t<td>\n",
    "\t\t\t\t使用指定的风格或模式格式化日期和时间</td>\n",
    "\t\t</tr>\n",
    "\t\t<tr>\n",
    "\t\t\t<td>\n",
    "\t\t\t\t<a href=\"/jsp/jstl-format-parsedate-tag.html\" target=\"_blank\" rel=\"noopener noreferrer\">&lt;fmt:parseDate&gt;</a></td>\n",
    "\t\t\t<td>\n",
    "\t\t\t\t解析一个代表着日期或时间的字符串</td>\n",
    "\t\t</tr>\n",
    "\t\t<tr>\n",
    "\t\t\t<td>\n",
    "\t\t\t\t<a href=\"/jsp/jstl-format-bundle-tag.html\" target=\"_blank\" rel=\"noopener noreferrer\">&lt;fmt:bundle&gt;</a></td>\n",
    "\t\t\t<td>\n",
    "\t\t\t\t绑定资源</td>\n",
    "\t\t</tr>\n",
    "\t\t<tr>\n",
    "\t\t\t<td>\n",
    "\t\t\t\t<a href=\"/jsp/jstl-format-setlocale-tag.html\" target=\"_blank\" rel=\"noopener noreferrer\">&lt;fmt:setLocale&gt;</a></td>\n",
    "\t\t\t<td>\n",
    "\t\t\t\t指定地区</td>\n",
    "\t\t</tr>\n",
    "\t\t<tr>\n",
    "\t\t\t<td>\n",
    "\t\t\t\t<a href=\"/jsp/jstl-format-setbundle-tag.html\" target=\"_blank\" rel=\"noopener noreferrer\">&lt;fmt:setBundle&gt;</a></td>\n",
    "\t\t\t<td>\n",
    "\t\t\t\t绑定资源</td>\n",
    "\t\t</tr>\n",
    "\t\t<tr>\n",
    "\t\t\t<td>\n",
    "\t\t\t\t<a href=\"/jsp/jstl-format-timezone-tag.html\" target=\"_blank\" rel=\"noopener noreferrer\">&lt;fmt:timeZone&gt;</a></td>\n",
    "\t\t\t<td>\n",
    "\t\t\t\t指定时区</td>\n",
    "\t\t</tr>\n",
    "\t\t<tr>\n",
    "\t\t\t<td>\n",
    "\t\t\t\t<a href=\"/jsp/jstl-format-settimezone-tag.html\" target=\"_blank\" rel=\"noopener noreferrer\">&lt;fmt:setTimeZone&gt;</a></td>\n",
    "\t\t\t<td>\n",
    "\t\t\t\t指定时区</td>\n",
    "\t\t</tr>\n",
    "\t\t<tr>\n",
    "\t\t\t<td>\n",
    "\t\t\t\t<a href=\"/jsp/jstl-format-message-tag.html\" target=\"_blank\" rel=\"noopener noreferrer\">&lt;fmt:message&gt;</a></td>\n",
    "\t\t\t<td>\n",
    "\t\t\t\t显示资源配置文件信息</td>\n",
    "\t\t</tr>\n",
    "\t\t<tr>\n",
    "\t\t\t<td>\n",
    "\t\t\t\t<a href=\"/jsp/jstl-format-requestencoding-tag.html\" target=\"_blank\" rel=\"noopener noreferrer\">&lt;fmt:requestEncoding&gt;</a></td>\n",
    "\t\t\t<td>\n",
    "\t\t\t\t设置request的字符编码</td>\n",
    "\t\t</tr>\n",
    "\t</tbody>\n",
    "</table>"
   ]
  },
  {
   "cell_type": "markdown",
   "id": "a025afb9",
   "metadata": {},
   "source": [
    "## SQL标签"
   ]
  },
  {
   "cell_type": "raw",
   "id": "84057737",
   "metadata": {},
   "source": [
    "JSTL SQL标签库提供了与关系型数据库（Oracle，MySQL，SQL Server等等）进行交互的标签。引用SQL标签库的语法如下："
   ]
  },
  {
   "cell_type": "raw",
   "id": "f5f72516",
   "metadata": {},
   "source": [
    "<%@ taglib prefix=\"sql\" uri=\"http://java.sun.com/jsp/jstl/sql\" %>"
   ]
  },
  {
   "cell_type": "markdown",
   "id": "d1adcec3",
   "metadata": {},
   "source": [
    "<table class=\"reference\">\n",
    "\t<tbody>\n",
    "\t\t<tr>\n",
    "\t\t\t<th>\n",
    "\t\t\t\t标签</th>\n",
    "\t\t\t<th>\n",
    "\t\t\t\t描述</th>\n",
    "\t\t</tr>\n",
    "\t\t<tr>\n",
    "\t\t\t<td>\n",
    "\t\t\t\t<a href=\"/jsp/jstl-sql-setdatasource-tag.html\" target=\"_blank\" rel=\"noopener noreferrer\">&lt;sql:setDataSource&gt;</a></td>\n",
    "\t\t\t<td>\n",
    "\t\t\t\t指定数据源</td>\n",
    "\t\t</tr>\n",
    "\t\t<tr>\n",
    "\t\t\t<td>\n",
    "\t\t\t\t<a href=\"/jsp/jstl-sql-query-tag.html\" target=\"_blank\" rel=\"noopener noreferrer\">&lt;sql:query&gt;</a></td>\n",
    "\t\t\t<td>\n",
    "\t\t\t\t运行SQL查询语句</td>\n",
    "\t\t</tr>\n",
    "\t\t<tr>\n",
    "\t\t\t<td>\n",
    "\t\t\t\t<a href=\"/jsp/jstl-sql-update-tag.html\" target=\"_blank\" rel=\"noopener noreferrer\">&lt;sql:update&gt;</a></td>\n",
    "\t\t\t<td>\n",
    "\t\t\t\t运行SQL更新语句</td>\n",
    "\t\t</tr>\n",
    "\t\t<tr>\n",
    "\t\t\t<td>\n",
    "\t\t\t\t<a href=\"/jsp/jstl-sql-param-tag.html\" target=\"_blank\" rel=\"noopener noreferrer\">&lt;sql:param&gt;</a></td>\n",
    "\t\t\t<td>\n",
    "\t\t\t\t将SQL语句中的参数设为指定值</td>\n",
    "\t\t</tr>\n",
    "\t\t<tr>\n",
    "\t\t\t<td>\n",
    "\t\t\t\t<a href=\"/jsp/jstl-sql-dateparam-tag.html\" target=\"_blank\" rel=\"noopener noreferrer\">&lt;sql:dateParam&gt;</a></td>\n",
    "\t\t\t<td>\n",
    "\t\t\t\t将SQL语句中的日期参数设为指定的java.util.Date&nbsp;对象值</td>\n",
    "\t\t</tr>\n",
    "\t\t<tr>\n",
    "\t\t\t<td>\n",
    "\t\t\t\t<a href=\"/jsp/jstl-sql-transaction-tag.html\" target=\"_blank\" rel=\"noopener noreferrer\">&lt;sql:transaction&gt;</a></td>\n",
    "\t\t\t<td>\n",
    "\t\t\t\t在共享数据库连接中提供嵌套的数据库行为元素，将所有语句以一个事务的形式来运行</td>\n",
    "\t\t</tr>\n",
    "\t</tbody>\n",
    "</table>"
   ]
  },
  {
   "cell_type": "markdown",
   "id": "02542da5",
   "metadata": {},
   "source": [
    "## XML 标签"
   ]
  },
  {
   "cell_type": "markdown",
   "id": "ee432991",
   "metadata": {},
   "source": [
    "JSTL XML标签库提供了创建和操作XML文档的标签。引用XML标签库的语法如下："
   ]
  },
  {
   "cell_type": "raw",
   "id": "4806c50a",
   "metadata": {},
   "source": [
    "<%@ taglib prefix=\"x\" uri=\"http://java.sun.com/jsp/jstl/xml\" %>"
   ]
  },
  {
   "cell_type": "markdown",
   "id": "b32de9fb",
   "metadata": {},
   "source": [
    "在使用xml标签前，你必须将XML 和 XPath 的相关包拷贝至你的<Tomcat 安装目录>\\lib下:\n",
    "\n",
    "XercesImpl.jar\n",
    "\n",
    "下载地址： http://www.apache.org/dist/xerces/j/\n",
    "\n",
    "xalan.jar\n",
    "\n",
    "下载地址： http://xml.apache.org/xalan-j/index.html"
   ]
  },
  {
   "cell_type": "markdown",
   "id": "9c663220",
   "metadata": {},
   "source": [
    "<table class=\"reference\">\n",
    "\t<tbody>\n",
    "\t\t<tr>\n",
    "\t\t\t<th>\n",
    "\t\t\t\t标签</th>\n",
    "\t\t\t<th>\n",
    "\t\t\t\t描述</th>\n",
    "\t\t</tr>\n",
    "\t\t<tr>\n",
    "\t\t\t<td>\n",
    "\t\t\t\t<a href=\"/jsp/jstl-xml-out-tag.html\" target=\"_blank\" rel=\"noopener noreferrer\">&lt;x:out&gt;</a></td>\n",
    "\t\t\t<td>\n",
    "\t\t\t\t与&lt;%= ... &gt;,类似，不过只用于XPath表达式</td>\n",
    "\t\t</tr>\n",
    "\t\t<tr>\n",
    "\t\t\t<td>\n",
    "\t\t\t\t<a href=\"/jsp/jstl-xml-parse-tag.html\" target=\"_blank\" rel=\"noopener noreferrer\">&lt;x:parse&gt;</a></td>\n",
    "\t\t\t<td>\n",
    "\t\t\t\t解析 XML 数据</td>\n",
    "\t\t</tr>\n",
    "\t\t<tr>\n",
    "\t\t\t<td>\n",
    "\t\t\t\t<a href=\"/jsp/jstl-xml-set-tag.html\" target=\"_blank\" rel=\"noopener noreferrer\">&lt;x:set&gt;</a></td>\n",
    "\t\t\t<td>\n",
    "\t\t\t\t设置XPath表达式</td>\n",
    "\t\t</tr>\n",
    "\t\t<tr>\n",
    "\t\t\t<td>\n",
    "\t\t\t\t<a href=\"/jsp/jstl-xml-if-tag.html\" target=\"_blank\" rel=\"noopener noreferrer\">&lt;x:if&gt;</a></td>\n",
    "\t\t\t<td>\n",
    "\t\t\t\t判断XPath表达式，若为真，则执行本体中的内容，否则跳过本体</td>\n",
    "\t\t</tr>\n",
    "\t\t<tr>\n",
    "\t\t\t<td>\n",
    "\t\t\t\t<a href=\"/jsp/jstl-xml-foreach-tag.html\" target=\"_blank\" rel=\"noopener noreferrer\">&lt;x:forEach&gt;</a></td>\n",
    "\t\t\t<td>\n",
    "\t\t\t\t迭代XML文档中的节点</td>\n",
    "\t\t</tr>\n",
    "\t\t<tr>\n",
    "\t\t\t<td>\n",
    "\t\t\t\t<a href=\"/jsp/jstl-xml-choose-tag.html\" target=\"_blank\" rel=\"noopener noreferrer\">&lt;x:choose&gt;</a></td>\n",
    "\t\t\t<td>\n",
    "\t\t\t\t&lt;x:when&gt;和&lt;x:otherwise&gt;的父标签</td>\n",
    "\t\t</tr>\n",
    "\t\t<tr>\n",
    "\t\t\t<td>\n",
    "\t\t\t\t<a href=\"/jsp/jstl-xml-choose-tag.html\" target=\"_blank\" rel=\"noopener noreferrer\">&lt;x:when&gt;</a></td>\n",
    "\t\t\t<td>\n",
    "\t\t\t\t&lt;x:choose&gt;的子标签，用来进行条件判断</td>\n",
    "\t\t</tr>\n",
    "\t\t<tr>\n",
    "\t\t\t<td>\n",
    "\t\t\t\t<a href=\"/jsp/jstl-xml-choose-tag.html\" target=\"_blank\" rel=\"noopener noreferrer\">&lt;x:otherwise&gt;</a></td>\n",
    "\t\t\t<td>\n",
    "\t\t\t\t&lt;x:choose&gt;的子标签，当&lt;x:when&gt;判断为false时被执行</td>\n",
    "\t\t</tr>\n",
    "\t\t<tr>\n",
    "\t\t\t<td>\n",
    "\t\t\t\t<a href=\"/jsp/jstl-xml-transform-tag.html\" target=\"_blank\" rel=\"noopener noreferrer\">&lt;x:transform&gt;</a></td>\n",
    "\t\t\t<td>\n",
    "\t\t\t\t将XSL转换应用在XML文档中</td>\n",
    "\t\t</tr>\n",
    "\t\t<tr>\n",
    "\t\t\t<td>\n",
    "\t\t\t\t<a href=\"/jsp/jstl-xml-param-tag.html\" target=\"_blank\" rel=\"noopener noreferrer\">&lt;x:param&gt;</a></td>\n",
    "\t\t\t<td>\n",
    "\t\t\t\t与&lt;x:transform&gt;共同使用，用于设置XSL样式表</td>\n",
    "\t\t</tr>\n",
    "\t</tbody>\n",
    "</table>"
   ]
  },
  {
   "cell_type": "markdown",
   "id": "020463bd",
   "metadata": {},
   "source": [
    "## JSTL函数"
   ]
  },
  {
   "cell_type": "markdown",
   "id": "c70d7dba",
   "metadata": {},
   "source": [
    "JSTL包含一系列标准函数，大部分是通用的字符串处理函数。引用JSTL函数库的语法如下："
   ]
  },
  {
   "cell_type": "raw",
   "id": "4175c35c",
   "metadata": {},
   "source": [
    "<%@ taglib prefix=\"fn\" uri=\"http://java.sun.com/jsp/jstl/functions\" %>"
   ]
  },
  {
   "cell_type": "markdown",
   "id": "dd96f720",
   "metadata": {},
   "source": [
    "<table class=\"reference\">\n",
    "\t<tbody>\n",
    "\t\t<tr>\n",
    "\t\t\t<th>\n",
    "\t\t\t\t函数</th>\n",
    "\t\t\t<th>\n",
    "\t\t\t\t描述</th>\n",
    "\t\t</tr>\n",
    "\t\t<tr>\n",
    "\t\t\t<td>\n",
    "\t\t\t\t<a href=\"/jsp/jstl-function-contains.html\" target=\"_blank\" rel=\"noopener noreferrer\">fn:contains()</a></td>\n",
    "\t\t\t<td>\n",
    "\t\t\t\t测试输入的字符串是否包含指定的子串</td>\n",
    "\t\t</tr>\n",
    "\t\t<tr>\n",
    "\t\t\t<td>\n",
    "\t\t\t\t<a href=\"/jsp/jstl-function-containsignoreCase.html\" target=\"_blank\" rel=\"noopener noreferrer\">fn:containsIgnoreCase()</a></td>\n",
    "\t\t\t<td>\n",
    "\t\t\t\t测试输入的字符串是否包含指定的子串，大小写不敏感</td>\n",
    "\t\t</tr>\n",
    "\t\t<tr>\n",
    "\t\t\t<td>\n",
    "\t\t\t\t<a href=\"/jsp/jstl-function-endswith.html\" target=\"_blank\" rel=\"noopener noreferrer\">fn:endsWith()</a></td>\n",
    "\t\t\t<td>\n",
    "\t\t\t\t测试输入的字符串是否以指定的后缀结尾</td>\n",
    "\t\t</tr>\n",
    "\t\t<tr>\n",
    "\t\t\t<td>\n",
    "\t\t\t\t<a href=\"/jsp/jstl-function-escapexml.html\" target=\"_blank\" rel=\"noopener noreferrer\">fn:escapeXml()</a></td>\n",
    "\t\t\t<td>\n",
    "\t\t\t\t跳过可以作为XML标记的字符</td>\n",
    "\t\t</tr>\n",
    "\t\t<tr>\n",
    "\t\t\t<td>\n",
    "\t\t\t\t<a href=\"/jsp/jstl-function-indexof.html\" target=\"_blank\" rel=\"noopener noreferrer\">fn:indexOf()</a></td>\n",
    "\t\t\t<td>\n",
    "\t\t\t\t返回指定字符串在输入字符串中出现的位置</td>\n",
    "\t\t</tr>\n",
    "\t\t<tr>\n",
    "\t\t\t<td>\n",
    "\t\t\t\t<a href=\"/jsp/jstl-function-join.html\" target=\"_blank\" rel=\"noopener noreferrer\">fn:join()</a></td>\n",
    "\t\t\t<td>\n",
    "\t\t\t\t将数组中的元素合成一个字符串然后输出</td>\n",
    "\t\t</tr>\n",
    "\t\t<tr>\n",
    "\t\t\t<td>\n",
    "\t\t\t\t<a href=\"/jsp/jstl-function-length.html\" target=\"_blank\" rel=\"noopener noreferrer\">fn:length()</a></td>\n",
    "\t\t\t<td>\n",
    "\t\t\t\t返回字符串长度</td>\n",
    "\t\t</tr>\n",
    "\t\t<tr>\n",
    "\t\t\t<td>\n",
    "\t\t\t\t<a href=\"/jsp/jstl-function-replace.html\" target=\"_blank\" rel=\"noopener noreferrer\">fn:replace()</a></td>\n",
    "\t\t\t<td>\n",
    "\t\t\t\t将输入字符串中指定的位置替换为指定的字符串然后返回</td>\n",
    "\t\t</tr>\n",
    "\t\t<tr>\n",
    "\t\t\t<td>\n",
    "\t\t\t\t<a href=\"/jsp/jstl-function-split.html\" target=\"_blank\" rel=\"noopener noreferrer\">fn:split()</a></td>\n",
    "\t\t\t<td>\n",
    "\t\t\t\t将字符串用指定的分隔符分隔然后组成一个子字符串数组并返回</td>\n",
    "\t\t</tr>\n",
    "\t\t<tr>\n",
    "\t\t\t<td>\n",
    "\t\t\t\t<a href=\"/jsp/jstl-function-startswith.html\" target=\"_blank\" rel=\"noopener noreferrer\">fn:startsWith()</a></td>\n",
    "\t\t\t<td>\n",
    "\t\t\t\t测试输入字符串是否以指定的前缀开始</td>\n",
    "\t\t</tr>\n",
    "\t\t<tr>\n",
    "\t\t\t<td>\n",
    "\t\t\t\t<a href=\"/jsp/jstl-function-substring.html\" target=\"_blank\" rel=\"noopener noreferrer\">fn:substring()</a></td>\n",
    "\t\t\t<td>\n",
    "\t\t\t\t返回字符串的子集</td>\n",
    "\t\t</tr>\n",
    "\t\t<tr>\n",
    "\t\t\t<td>\n",
    "\t\t\t\t<a href=\"/jsp/jstl-function-substringafter.html\" target=\"_blank\" rel=\"noopener noreferrer\">fn:substringAfter()</a></td>\n",
    "\t\t\t<td>\n",
    "\t\t\t\t返回字符串在指定子串之后的子集</td>\n",
    "\t\t</tr>\n",
    "\t\t<tr>\n",
    "\t\t\t<td>\n",
    "\t\t\t\t<a href=\"/jsp/jstl-function-substringbefore.html\" target=\"_blank\" rel=\"noopener noreferrer\">fn:substringBefore()</a></td>\n",
    "\t\t\t<td>\n",
    "\t\t\t\t返回字符串在指定子串之前的子集</td>\n",
    "\t\t</tr>\n",
    "\t\t<tr>\n",
    "\t\t\t<td>\n",
    "\t\t\t\t<a href=\"/jsp/jstl-function-tolowercase.html\" target=\"_blank\" rel=\"noopener noreferrer\">fn:toLowerCase()</a></td>\n",
    "\t\t\t<td>\n",
    "\t\t\t\t将字符串中的字符转为小写</td>\n",
    "\t\t</tr>\n",
    "\t\t<tr>\n",
    "\t\t\t<td>\n",
    "\t\t\t\t<a href=\"/jsp/jstl-function-touppercase.html\" target=\"_blank\" rel=\"noopener noreferrer\">fn:toUpperCase()</a></td>\n",
    "\t\t\t<td>\n",
    "\t\t\t\t将字符串中的字符转为大写</td>\n",
    "\t\t</tr>\n",
    "\t\t<tr>\n",
    "\t\t\t<td>\n",
    "\t\t\t\t<a href=\"/jsp/jstl-function-trim.html\" target=\"_blank\" rel=\"noopener noreferrer\">fn:trim()</a></td>\n",
    "\t\t\t<td>\n",
    "\t\t\t\t移除首尾的空白符</td>\n",
    "\t\t</tr>\n",
    "\t</tbody>\n",
    "</table>"
   ]
  },
  {
   "cell_type": "markdown",
   "id": "03ace7c3",
   "metadata": {},
   "source": [
    "## 示例：在错误页面中使用JSTL标签"
   ]
  },
  {
   "cell_type": "markdown",
   "id": "9be0b3af",
   "metadata": {},
   "source": [
    "可以利用JSTL标签来编写错误页面ShowError.jsp。这个例子中的代码与上例代码的逻辑几乎一样，但是本例的代码有更好的结构，并且能够提供更多信息:"
   ]
  },
  {
   "cell_type": "code",
   "execution_count": 33,
   "id": "a481aef0",
   "metadata": {},
   "outputs": [
    {
     "name": "stdout",
     "output_type": "stream",
     "text": [
      "Overwriting E:\\apache-tomcat-9.0.13\\webapps\\ROOT\\ch06\\example6_3.jsp\n"
     ]
    }
   ],
   "source": [
    "%%file E:\\apache-tomcat-9.0.13\\webapps\\ROOT\\ch06\\example6_3.jsp\n",
    "<%@ taglib prefix=\"c\" uri=\"http://java.sun.com/jsp/jstl/core\" %>\n",
    "<%@page isErrorPage=\"true\" %>\n",
    "<html>\n",
    "<head>\n",
    "    <title>Show Error Page</title>\n",
    "</head>\n",
    "<body>\n",
    "<h1>Opps...</h1>\n",
    "<table width=\"100%\" border=\"1\">\n",
    "    <tr valign=\"top\">\n",
    "        <td width=\"40%\"><b>Error:</b></td>\n",
    "        <td>${pageContext.exception}</td>\n",
    "    </tr>\n",
    "    <tr valign=\"top\">\n",
    "        <td><b>URI:</b></td>\n",
    "        <td>${pageContext.errorData.requestURI}</td>\n",
    "    </tr>\n",
    "    <tr valign=\"top\">\n",
    "        <td><b>Status code:</b></td>\n",
    "        <td>${pageContext.errorData.statusCode}</td>\n",
    "    </tr>\n",
    "    <tr valign=\"top\">\n",
    "        <td><b>Stack trace:</b></td>\n",
    "        <td>\n",
    "            <c:forEach var=\"trace\"\n",
    "                       items=\"${pageContext.exception.stackTrace}\">\n",
    "                <p>${trace}</p>\n",
    "            </c:forEach>\n",
    "        </td>\n",
    "    </tr>\n",
    "</table>\n",
    "</body>\n",
    "</html>"
   ]
  },
  {
   "cell_type": "markdown",
   "id": "79bebd23",
   "metadata": {},
   "source": [
    "[点击example6_3.jsp](http://127.0.0.1:8080/ch06/example6_3.jsp),效果如图所示。"
   ]
  },
  {
   "attachments": {
    "image.png": {
     "image/png": "[encoded data removed]"
    }
   },
   "cell_type": "markdown",
   "id": "465f3649",
   "metadata": {},
   "source": [
    "![image.png](attachment:image.png)"
   ]
  },
  {
   "cell_type": "markdown",
   "id": "a9106b9c",
   "metadata": {},
   "source": [
    "# JSP 自定义标签"
   ]
  },
  {
   "cell_type": "markdown",
   "id": "ea423ffa",
   "metadata": {},
   "source": [
    "tld（taglib description）是自定义标签，自定义标签一般用于jsp页面。使用tld可以在JSP页面中使用自己定义的标签。这样你就可以在JSP页面用，除了使用JSP标准标签库（JSTL）外，还可以使用自己自定义的标签库。"
   ]
  },
  {
   "cell_type": "markdown",
   "id": "9957db73",
   "metadata": {},
   "source": [
    "自定义标签是用户定义的JSP语言元素。当JSP页面包含一个自定义标签时将被转化为servlet，标签转化为对被 称为tag handler的对象的操作，即当servlet执行时Web container调用那些操作。\n",
    "\n",
    "JSP标签扩展可以让你创建新的标签并且可以直接插入到一个JSP页面。 JSP 2.0规范中引入Simple Tag Handlers来编写这些自定义标记。\n",
    "\n",
    "你可以继承SimpleTagSupport类并重写的doTag()方法来开发一个最简单的自定义标签。"
   ]
  },
  {
   "cell_type": "markdown",
   "id": "c19f27b5",
   "metadata": {},
   "source": [
    "标签有以下结构：标签体，标签名，标签属性"
   ]
  },
  {
   "cell_type": "raw",
   "id": "95de1504",
   "metadata": {},
   "source": [
    "<MyTag></MyTag>\n",
    "<MyTag>MyTag body</MyTag>\n",
    "<MyTag 标签属性=\"xxx\"/>"
   ]
  },
  {
   "cell_type": "markdown",
   "id": "94f9a690",
   "metadata": {},
   "source": [
    "编写自定义标签分三步走：\n",
    "\n",
    "- 编写标签处理类\n",
    "- 编写标签描述符\n",
    "- 导入并使用自定义标签"
   ]
  },
  {
   "cell_type": "markdown",
   "id": "49a42313",
   "metadata": {},
   "source": [
    "## 编写标签处理类"
   ]
  },
  {
   "cell_type": "markdown",
   "id": "1706e6c4",
   "metadata": {},
   "source": [
    "要自定义标签就需要，编写标签的处理类，处理类决定了标签的功能。自定义标签先继承 SimpleTagSupport 类，并重写其中的 doTag() 方法。doTag()方法用于编写标签的执行体，其方法的定义来自于 interface SimpleTag。\n",
    "\n",
    "SimpleTagSupport主要有以下方法：\n",
    "\n",
    "- public void doTag() 标签方法体\n",
    "- public void setParent(JspTag parent) 标签镶嵌是会调用的方法，就是给标签设置父标签（一般不重写）\n",
    "- public JspTag getParent() 获取父标签\n",
    "- public void setJspContext(JspContext pc) 存储提供的JSP上下文jspContext对象\n",
    "- protected JspContext getJspContext() 获取JspContext\n",
    "- public void setJspBody(JspFragment jspBody) 设置标签\n",
    "- protected JspFragment getJspBody() 获取标签\n",
    "\n",
    "我们只需要重点关注doTag()，getJspBody()，和getJspContext() 方法。"
   ]
  },
  {
   "cell_type": "markdown",
   "id": "a01ed2b6",
   "metadata": {},
   "source": [
    "示例1. 只针对标签的功能"
   ]
  },
  {
   "cell_type": "raw",
   "id": "374d8a03",
   "metadata": {},
   "source": [
    "public class HelloTag extends SimpleTagSupport {\n",
    "\n",
    "  //重写doTag()方法，doTag()方法用于编写标签的执行体\n",
    "  public void doTag() throws JspException, IOException {\n",
    "  \t//使用了getJspContext()方法来获取当前的JspContext对象\n",
    "    JspWriter out = getJspContext().getOut();\n",
    "    //打印\n",
    "    out.println(\"Hello Custom Tag!\");\n",
    "  }\n",
    "}\n"
   ]
  },
  {
   "cell_type": "markdown",
   "id": "b5da5f88",
   "metadata": {},
   "source": [
    "示例2. 将标签体打印到JSP页面中（这里用到了标签体）"
   ]
  },
  {
   "cell_type": "markdown",
   "id": "26ddfe32",
   "metadata": {},
   "source": [
    "注释：invoke方法可以控制是否执行和输出标签体的内容、是否迭代执行标签体的内容或对标签体的执行结果进行修改后再输出。可以使用invoke方法多次执行和输出标签体的内容。"
   ]
  },
  {
   "cell_type": "raw",
   "id": "f32043b5",
   "metadata": {},
   "source": [
    "public class HelloTag extends SimpleTagSupport {\n",
    "    StringWriter sw = new StringWriter();\n",
    "    public void doTag() throws JspException, IOException{\n",
    "    \t//获取标签体，如（<sd>我是标签体</sd>）\n",
    "        getJspBody().invoke(sw);\n",
    "        //getJspContext()方法来获取当前的JspContext对象，并打印标签体到页面中\n",
    "        getJspContext().getOut().println(sw.toString());\n",
    "    }\n",
    "}"
   ]
  },
  {
   "cell_type": "markdown",
   "id": "b1223eee",
   "metadata": {},
   "source": [
    "示例3. 从属性和标签体中获取信息"
   ]
  },
  {
   "cell_type": "raw",
   "id": "50f116b0",
   "metadata": {},
   "source": [
    "public class HelloTag extends SimpleTagSupport {\n",
    "    \n",
    "   private String message;\n",
    "   //自定义的标签属性必须提供set方法，将通过set方法传值\n",
    "   public void setMessage(String msg) {\n",
    "      this.message = msg;\n",
    "   }\n",
    "    \n",
    "    \n",
    "   StringWriter sw = new StringWriter();\n",
    "   public void doTag() throws JspException, IOException\n",
    "    {\n",
    "       if (message != null) {\n",
    "          /* 从属性中使用消息 */\n",
    "          JspWriter out = getJspContext().getOut();\n",
    "          out.println( \"标签属性是：\"+ message);\n",
    "       }\n",
    "       else {\n",
    "          /* 从内容体中使用消息 */\n",
    "          getJspBody().invoke(sw);\n",
    "          getJspContext().getOut().println(\"标签体是：\"+sw.toString());\n",
    "       }\n",
    "   }\n",
    "\n",
    "}"
   ]
  },
  {
   "cell_type": "markdown",
   "id": "7599b259",
   "metadata": {},
   "source": [
    "## 编写标签描述符"
   ]
  },
  {
   "cell_type": "markdown",
   "id": "a1a41f59",
   "metadata": {},
   "source": [
    "编写好标签处理类我们就可以开始制作标签啦，先在WEB-INF/目录下创建mytag.tld文件。"
   ]
  },
  {
   "cell_type": "raw",
   "id": "ffa2a2e3",
   "metadata": {},
   "source": [
    "<?xml version=\"1.0\" encoding=\"UTF-8\" ?>\n",
    "<taglib>\n",
    "      <!--标签库的描述信息-->\n",
    "      <tlib-version>1.0</tlib-version>\n",
    "      <jsp-version>2.0</jsp-version>\n",
    "      <short-name>Example TLD</short-name>\n",
    "    \n",
    "  \t  <!--自定义的标签-->\n",
    "  <tag>\n",
    "      <!--标签名-->\n",
    "      <name>Hello</name>\n",
    "      <!--对应的处理类-->\n",
    "      <tag-class>com.runoob.HelloTag</tag-class>\n",
    "      <!--处理类中定义的变量，因为没有所以empty-->\n",
    "      <body-content>empty</body-content>\n",
    "  </tag>\n",
    "    \n",
    "    \n",
    "  <!--如果有自定义标签属性的，要添加attribute\n",
    "\t<tag>     \n",
    "      <name>Hello</name>\n",
    "      <tag-class>com.runoob.HelloTag</tag-class\n",
    "      <body-content>scriptless</body-content>\n",
    "\t  <attribute>\n",
    "       \t<name>message</name>\n",
    "      </attribute>\n",
    "  </tag> \n",
    "\t-->\n",
    "</taglib>\n"
   ]
  },
  {
   "cell_type": "markdown",
   "id": "7dfda32f",
   "metadata": {},
   "source": [
    "## 导入并使用自定义标签"
   ]
  },
  {
   "cell_type": "markdown",
   "id": "1f0c4461",
   "metadata": {},
   "source": [
    "最后一部就是导入标签库了，这个十分简单只需要使用 `<%@ taglib prefix=“ex” uri=“WEB-INF/custom.tld”%> `导入即可。"
   ]
  },
  {
   "cell_type": "raw",
   "id": "7e0192f0",
   "metadata": {},
   "source": [
    "<!--prefix引用前缀，uri指定引用的标签库-->\n",
    "<%@ taglib prefix=\"ex\" uri=\"WEB-INF/mytag.tld\"%>\n",
    "<html>\n",
    "  <head>\n",
    "    <title>A sample tag</title>\n",
    "  </head>\n",
    "  <body>\n",
    "    <ex:Hello/>\n",
    "    <!--\n",
    "\t\t根据实际的需要，可以利用标签体和标签属性能丰富标签的功能\n",
    "\t-->\n",
    "  </body>\n",
    "</html>\n"
   ]
  },
  {
   "cell_type": "markdown",
   "id": "4a5d8b5e",
   "metadata": {},
   "source": [
    "## 示例：创建\"Hello\"标签"
   ]
  },
  {
   "cell_type": "markdown",
   "id": "86aa920f",
   "metadata": {},
   "source": [
    "1. 创建\"Hello\"标签"
   ]
  },
  {
   "cell_type": "markdown",
   "id": "f1215c63",
   "metadata": {},
   "source": [
    "接下来，我们想创建一个自定义标签叫作`<ex:Hello>`，标签格式为："
   ]
  },
  {
   "cell_type": "raw",
   "id": "346d96e3",
   "metadata": {},
   "source": [
    "<ex:Hello />"
   ]
  },
  {
   "cell_type": "markdown",
   "id": "f61ba87d",
   "metadata": {},
   "source": [
    "要创建自定义的JSP标签，你首先必须创建处理标签的Java类。所以，让我们创建一个HelloTag类，如下所示："
   ]
  },
  {
   "cell_type": "markdown",
   "id": "fab17f82",
   "metadata": {},
   "source": [
    "1. 首先写一个Java文件"
   ]
  },
  {
   "cell_type": "code",
   "execution_count": 35,
   "id": "ee270f2f",
   "metadata": {},
   "outputs": [
    {
     "name": "stdout",
     "output_type": "stream",
     "text": [
      "Overwriting HelloTag.java\n"
     ]
    }
   ],
   "source": [
    "%%file HelloTag.java\n",
    "\n",
    "package com.zhou;\n",
    "import javax.servlet.jsp.tagext.*;\n",
    "import javax.servlet.jsp.*;\n",
    "import java.io.*;\n",
    "\n",
    "public class HelloTag extends SimpleTagSupport {\n",
    "\n",
    "  public void doTag() throws JspException, IOException {\n",
    "    JspWriter out = getJspContext().getOut();\n",
    "    out.println(\"Hello Custom Tag!\");\n",
    "  }\n",
    "}"
   ]
  },
  {
   "cell_type": "markdown",
   "id": "5e0cbde1",
   "metadata": {},
   "source": [
    "以上代码重写了doTag()方法，方法中使用了getJspContext()方法来获取当前的JspContext对象，并将\"Hello Custom Tag!\"传递给JspWriter对象。"
   ]
  },
  {
   "cell_type": "markdown",
   "id": "fd5b2d1e",
   "metadata": {},
   "source": [
    "2. 指定目录：建一个目录，来存放.class文件和.jar文件。这里指定目录为myclass"
   ]
  },
  {
   "cell_type": "code",
   "execution_count": 36,
   "id": "3ce547d1",
   "metadata": {},
   "outputs": [],
   "source": [
    "!md myclass"
   ]
  },
  {
   "cell_type": "markdown",
   "id": "aacf9f53",
   "metadata": {},
   "source": [
    "3. 将java文件编译到指定目录"
   ]
  },
  {
   "cell_type": "raw",
   "id": "9cf4d753",
   "metadata": {},
   "source": [
    "语法格式为：javac -d 指定目录 java文件\n",
    "编译到myclass：javac -d myclass HelloTag.java\n",
    "若出现乱码异常则可以指定字符编码：javac -encoding UTF-8 -d myclass HelloTag.java"
   ]
  },
  {
   "cell_type": "code",
   "execution_count": 37,
   "id": "4cbbbbe2",
   "metadata": {},
   "outputs": [],
   "source": [
    "!javac -d myclass HelloTag.java"
   ]
  },
  {
   "cell_type": "markdown",
   "id": "72823602",
   "metadata": {},
   "source": [
    "4. 指定Main-Class"
   ]
  },
  {
   "cell_type": "markdown",
   "id": "9aa37673",
   "metadata": {},
   "source": [
    "上一步编译完成后，myclass目录下便生成了com文件夹。此时，在myclass文件目录下，建一个文件A（如HelloTag.txt）。\n",
    "\n",
    "文件内容为：Main-Class:（空格）全类名（回车）\n",
    "\n",
    "本例 HelloTag.txt 文件内容为：Main-Class: com.ray.HelloTag 回车 "
   ]
  },
  {
   "cell_type": "markdown",
   "id": "992163ff",
   "metadata": {},
   "source": [
    "5. 进入指定目录myclass，使用jar命令打包"
   ]
  },
  {
   "cell_type": "raw",
   "id": "6a7e8057",
   "metadata": {},
   "source": [
    "语法格式：jar -cvfm（jar名）文件A 包的顶级目录\n",
    "参数c：指定是创建新的归档文件。\n",
    "参数v：在标准输出中生成详细输出，该选项是可选的。\n",
    "参数f：指定打包后的包名。\n",
    "参数m：指定自定义的MANIFEST.MF清单文件，否则，JDK会自动生成不包含Main-Class的默认清单。\n",
    "本例：jar -cvfm HelloTag.jar HelloTag.txt com "
   ]
  },
  {
   "cell_type": "raw",
   "id": "0810d978",
   "metadata": {},
   "source": [
    "Microsoft Windows [版本 10.0.19044.2486]\n",
    "(c) Microsoft Corporation。保留所有权利。\n",
    "\n",
    "C:\\Windows\\system32>cd D:\\Jupyter\\29《Web云端开发》\\第06章 EL表达式和JSTL\\myclass\n",
    "\n",
    "C:\\Windows\\system32>d:\n",
    "\n",
    "D:\\Jupyter\\29《Web云端开发》\\第06章 EL表达式和JSTL\\myclass>jar -cvfm HelloTag.jar HelloTag.txt com\n",
    "已添加清单\n",
    "正在添加: com/(输入 = 0) (输出 = 0)(存储了 0%)\n",
    "正在添加: com/zhou/(输入 = 0) (输出 = 0)(存储了 0%)\n",
    "正在添加: com/zhou/HelloTag.class(输入 = 627) (输出 = 382)(压缩了 39%)"
   ]
  },
  {
   "cell_type": "markdown",
   "id": "9d6de78a",
   "metadata": {},
   "source": [
    "通过上述步骤，便在myclass目录下创建了HelloTag.jar。当然以上步骤，也可酌情省略。另附上在cmd中运行jar包的命令：java -jar jar包名，如本例：jar -cvfm HelloTag.jar HelloTag.txt com"
   ]
  },
  {
   "cell_type": "markdown",
   "id": "2cdadc54",
   "metadata": {},
   "source": [
    "编译完成后，并将其复制到环境变量CLASSPATH目录中。如："
   ]
  },
  {
   "attachments": {
    "image.png": {
     "image/png": "[encoded data removed]"
    }
   },
   "cell_type": "markdown",
   "id": "51cefacf",
   "metadata": {},
   "source": [
    "![image.png](attachment:image.png)"
   ]
  },
  {
   "cell_type": "markdown",
   "id": "86eeea14",
   "metadata": {},
   "source": [
    "最后创建如下标签库：<Tomcat安装目录>webapps\\ROOT\\WEB-INF\\custom.tld。"
   ]
  },
  {
   "cell_type": "code",
   "execution_count": 4,
   "id": "a84e80f2",
   "metadata": {},
   "outputs": [
    {
     "name": "stdout",
     "output_type": "stream",
     "text": [
      "Overwriting E:\\apache-tomcat-9.0.13\\webapps\\ROOT\\WEB-INF\\custom.tld\n"
     ]
    }
   ],
   "source": [
    "%%file E:\\apache-tomcat-9.0.13\\webapps\\ROOT\\WEB-INF\\custom.tld\n",
    "<taglib>\n",
    "  <tlib-version>1.0</tlib-version>\n",
    "  <jsp-version>2.0</jsp-version>\n",
    "  <short-name>Example TLD</short-name>\n",
    "  <tag>\n",
    "    <name>Hello</name>\n",
    "    <tag-class>com.zhou.HelloTag</tag-class>\n",
    "    <body-content>empty</body-content>\n",
    "  </tag>\n",
    "</taglib>"
   ]
  },
  {
   "cell_type": "markdown",
   "id": "d7148ced",
   "metadata": {},
   "source": [
    "需要在web.xml 中增加配置"
   ]
  },
  {
   "cell_type": "raw",
   "id": "89e09008",
   "metadata": {},
   "source": [
    "    <jsp-config>\n",
    "        <taglib>\n",
    "            <taglib-uri>http://whatever.jstldomainexample</taglib-uri>\n",
    "            <taglib-location>/WEB-INF/custom.tld</taglib-location>\n",
    "        </taglib>\n",
    "    </jsp-config>"
   ]
  },
  {
   "cell_type": "raw",
   "id": "13fa2544",
   "metadata": {},
   "source": [
    "注意：taglib的 uri不是文件路径而是域（可以自己编）如：http://whatever.jstldomainexample"
   ]
  },
  {
   "cell_type": "markdown",
   "id": "32838c5d",
   "metadata": {},
   "source": [
    "接下来，我们就可以在JSP文件中使用Hello标签："
   ]
  },
  {
   "cell_type": "code",
   "execution_count": 34,
   "id": "e1f3a663",
   "metadata": {},
   "outputs": [
    {
     "name": "stdout",
     "output_type": "stream",
     "text": [
      "Writing E:\\apache-tomcat-9.0.13\\webapps\\ROOT\\ch06\\example6_4.jsp\n"
     ]
    }
   ],
   "source": [
    "%%file E:\\apache-tomcat-9.0.13\\webapps\\ROOT\\ch06\\example6_4.jsp\n",
    "<%@ taglib prefix=\"ex\" uri=\"/WEB-INF/custom.tld\"%>\n",
    "<html>\n",
    "  <head>\n",
    "    <title>A sample custom tag</title>\n",
    "  </head>\n",
    "  <body>\n",
    "    <ex:Hello/>\n",
    "  </body>\n",
    "</html>"
   ]
  },
  {
   "cell_type": "markdown",
   "id": "8e8b4fcd",
   "metadata": {},
   "source": [
    "[点击example6_4.jsp](http://127.0.0.1:8080/ch06/example6_4.jsp),效果如图所示。"
   ]
  },
  {
   "attachments": {
    "image.png": {
     "image/png": "[encoded data removed]"
    }
   },
   "cell_type": "markdown",
   "id": "23293924",
   "metadata": {
    "cell_style": "split"
   },
   "source": [
    "![image.png](attachment:image.png)"
   ]
  },
  {
   "cell_type": "markdown",
   "id": "df5233a0",
   "metadata": {},
   "source": [
    "# 小结"
   ]
  },
  {
   "cell_type": "markdown",
   "id": "c8c378b6",
   "metadata": {},
   "source": [
    "本章主要讲解了JEL表达式的基本语法、常见EL表达式隐式对象、JSTL的安装和测试以及JSTL常见标签库等知识。\n",
    "\n",
    "通过本章的学习，大家能够了解什么是EL表达式和JSTL，可以熟练掌握EL表达式的基本语法的格式、EL的常见隐式对象以及JSTL中的常见Core标签库等操作。"
   ]
  },
  {
   "cell_type": "markdown",
   "id": "4e682122",
   "metadata": {},
   "source": [
    "# 实验"
   ]
  },
  {
   "cell_type": "markdown",
   "id": "5949de72",
   "metadata": {},
   "source": [
    "1. JSP自定义标签"
   ]
  },
  {
   "cell_type": "markdown",
   "id": "2857ee56",
   "metadata": {},
   "source": [
    "## 实验  JSP自定义标签"
   ]
  },
  {
   "cell_type": "markdown",
   "id": "b6c5bc5c",
   "metadata": {},
   "source": [
    "1. 访问标签体"
   ]
  },
  {
   "cell_type": "markdown",
   "id": "be2f54be",
   "metadata": {},
   "source": [
    "你可以像标准标签库一样在标签中包含消息内容。如我们要在我们自定义的Hello中包含内容，格式如下："
   ]
  },
  {
   "cell_type": "raw",
   "id": "5d53e9da",
   "metadata": {},
   "source": [
    "<ex:Hello>\n",
    "   This is message body\n",
    "</ex:Hello>"
   ]
  },
  {
   "cell_type": "markdown",
   "id": "2e7fddde",
   "metadata": {},
   "source": [
    "我们可以修改标签处理类文件，代码如下："
   ]
  },
  {
   "cell_type": "raw",
   "id": "1a3e69d6",
   "metadata": {},
   "source": [
    "import javax.servlet.jsp.tagext.*;\n",
    "import javax.servlet.jsp.*;\n",
    "import java.io.*;\n",
    "\n",
    "public class HelloTag extends SimpleTagSupport {\n",
    "\n",
    "   StringWriter sw = new StringWriter();\n",
    "   public void doTag()\n",
    "      throws JspException, IOException\n",
    "    {\n",
    "       getJspBody().invoke(sw);\n",
    "       getJspContext().getOut().println(sw.toString());\n",
    "    }\n",
    "\n",
    "}"
   ]
  },
  {
   "cell_type": "markdown",
   "id": "8a42e906",
   "metadata": {},
   "source": [
    "接下来我们需要修改TLD文件，如下所示："
   ]
  },
  {
   "cell_type": "raw",
   "id": "1088dead",
   "metadata": {},
   "source": [
    "<taglib>\n",
    "  <tlib-version>1.0</tlib-version>\n",
    "  <jsp-version>2.0</jsp-version>\n",
    "  <short-name>Example TLD with Body</short-name>\n",
    "  <tag>\n",
    "    <name>Hello</name>\n",
    "    <tag-class>com.runoob.HelloTag</tag-class>\n",
    "    <body-content>scriptless</body-content>\n",
    "  </tag>\n",
    "</taglib>"
   ]
  },
  {
   "cell_type": "markdown",
   "id": "ca842a09",
   "metadata": {},
   "source": [
    "现在我们可以在JSP使用修改后的标签，如下所示:"
   ]
  },
  {
   "cell_type": "raw",
   "id": "da1eb4cf",
   "metadata": {},
   "source": [
    "<%@ taglib prefix=\"ex\" uri=\"WEB-INF/custom.tld\"%>\n",
    "<html>\n",
    "  <head>\n",
    "    <title>A sample custom tag</title>\n",
    "  </head>\n",
    "  <body>\n",
    "    <ex:Hello>\n",
    "        This is message body\n",
    "    </ex:Hello>\n",
    "  </body>\n",
    "</html>"
   ]
  },
  {
   "cell_type": "markdown",
   "id": "299d43a1",
   "metadata": {},
   "source": [
    "以上程序输出结果如下所示："
   ]
  },
  {
   "cell_type": "raw",
   "id": "6a12d160",
   "metadata": {},
   "source": [
    "This is message body"
   ]
  },
  {
   "cell_type": "markdown",
   "id": "ad08bcaa",
   "metadata": {},
   "source": [
    "2.  自定义标签属性"
   ]
  },
  {
   "cell_type": "markdown",
   "id": "c928f3bd",
   "metadata": {},
   "source": [
    "你可以在自定义标准中设置各种属性，要接收属性，值自定义标签类必须实现setter方法， JavaBean 中的setter方法如下所示："
   ]
  },
  {
   "cell_type": "raw",
   "id": "891be94f",
   "metadata": {},
   "source": [
    "import javax.servlet.jsp.tagext.*;\n",
    "import javax.servlet.jsp.*;\n",
    "import java.io.*;\n",
    "\n",
    "public class HelloTag extends SimpleTagSupport {\n",
    "\n",
    "   private String message;\n",
    "\n",
    "   public void setMessage(String msg) {\n",
    "      this.message = msg;\n",
    "   }\n",
    "\n",
    "   StringWriter sw = new StringWriter();\n",
    "\n",
    "   public void doTag()\n",
    "      throws JspException, IOException\n",
    "    {\n",
    "       if (message != null) {\n",
    "          /* 从属性中使用消息 */\n",
    "          JspWriter out = getJspContext().getOut();\n",
    "          out.println( message );\n",
    "       }\n",
    "       else {\n",
    "          /* 从内容体中使用消息 */\n",
    "          getJspBody().invoke(sw);\n",
    "          getJspContext().getOut().println(sw.toString());\n",
    "       }\n",
    "   }\n",
    "\n",
    "}"
   ]
  },
  {
   "cell_type": "markdown",
   "id": "bbac7722",
   "metadata": {},
   "source": [
    "属性的名称是\"message\"，所以setter方法​​是的setMessage()。现在让我们在TLD文件中使用的<attribute>元素添加此属性："
   ]
  },
  {
   "cell_type": "raw",
   "id": "02b4ad92",
   "metadata": {},
   "source": [
    "<taglib>\n",
    "  <tlib-version>1.0</tlib-version>\n",
    "  <jsp-version>2.0</jsp-version>\n",
    "  <short-name>Example TLD with Body</short-name>\n",
    "  <tag>\n",
    "    <name>Hello</name>\n",
    "    <tag-class>com.runoob.HelloTag</tag-class>\n",
    "    <body-content>scriptless</body-content>\n",
    "    <attribute>\n",
    "       <name>message</name>\n",
    "    </attribute>\n",
    "  </tag>\n",
    "</taglib>"
   ]
  },
  {
   "cell_type": "markdown",
   "id": "aaf60b77",
   "metadata": {},
   "source": [
    "现在我们就可以在JSP文件中使用message属性了，如下所示："
   ]
  },
  {
   "cell_type": "raw",
   "id": "235259f3",
   "metadata": {},
   "source": [
    "<%@ taglib prefix=\"ex\" uri=\"WEB-INF/custom.tld\"%>\n",
    "<html>\n",
    "  <head>\n",
    "    <title>A sample custom tag</title>\n",
    "  </head>\n",
    "  <body>\n",
    "    <ex:Hello message=\"This is custom tag\" />\n",
    "  </body>\n",
    "</html>"
   ]
  },
  {
   "cell_type": "markdown",
   "id": "4f93a565",
   "metadata": {},
   "source": [
    "以上实例数据输出结果为："
   ]
  },
  {
   "cell_type": "raw",
   "id": "63d7a882",
   "metadata": {},
   "source": [
    "This is custom tag"
   ]
  },
  {
   "cell_type": "markdown",
   "id": "18421c8d",
   "metadata": {},
   "source": [
    "你还可以包含以下属性："
   ]
  },
  {
   "cell_type": "markdown",
   "id": "9a25e7ee",
   "metadata": {},
   "source": [
    "<table class=\"reference\">\n",
    "<tbody><tr><th style=\"width:30%\">属性 </th><th>描述</th></tr>\n",
    "<tr><td>name</td><td>定义属性的名称。每个标签的是属性名称必须是唯一的。</td></tr>\n",
    "<tr><td>required</td><td>指定属性是否是必须的或者可选的,如果设置为false为可选。</td></tr>\n",
    "<tr><td>rtexprvalue</td><td>声明在运行表达式时，标签属性是否有效。</td></tr>\n",
    "<tr><td>type</td><td>定义该属性的Java类类型 。默认指定为 <b>String</b></td></tr>\n",
    "<tr><td>description</td><td>描述信息</td></tr>\n",
    "<tr><td>fragment</td><td>如果声明了该属性,属性值将被视为一个 <b>JspFragment</b>。</td></tr>\n",
    "</tbody></table>"
   ]
  },
  {
   "cell_type": "markdown",
   "id": "2cd14d78",
   "metadata": {},
   "source": [
    "以下是指定相关的属性实例："
   ]
  },
  {
   "cell_type": "raw",
   "id": "15320e11",
   "metadata": {},
   "source": [
    ".....\n",
    "    <attribute>\n",
    "      <name>attribute_name</name>\n",
    "      <required>false</required>\n",
    "      <type>java.util.Date</type>\n",
    "      <fragment>false</fragment>\n",
    "    </attribute>\n",
    "....."
   ]
  },
  {
   "cell_type": "markdown",
   "id": "29916655",
   "metadata": {},
   "source": [
    "如果你使用了两个属性，修改TLD文件，如下所示："
   ]
  },
  {
   "cell_type": "raw",
   "id": "06ae96b4",
   "metadata": {},
   "source": [
    ".....\n",
    "    <attribute>\n",
    "      <name>attribute_name1</name>\n",
    "      <required>false</required>\n",
    "      <type>java.util.Boolean</type>\n",
    "      <fragment>false</fragment>\n",
    "    </attribute>\n",
    "    <attribute>\n",
    "      <name>attribute_name2</name>\n",
    "      <required>true</required>\n",
    "      <type>java.util.Date</type>\n",
    "    </attribute>\n",
    "....."
   ]
  },
  {
   "cell_type": "markdown",
   "id": "d0e5a195",
   "metadata": {},
   "source": [
    "# 作业"
   ]
  },
  {
   "cell_type": "raw",
   "id": "8bc002f5",
   "metadata": {},
   "source": [
    "1、\t简述定义EL标识符的规范。\n",
    "\n",
    "[参考答案]\tEL标识符的规范如下：\n",
    "1）\t可以由任意顺序的大小写字母、数字和下划线组成\n",
    "2）\t不能以数字开头\n",
    "3）\t不能是EL中的保留字，如and、or、gt；\n",
    "4）\t不能是EL隐式对象，如pageContext；\n",
    "5）\t不能包含单引号（'）、双引号（\"）、减号（-）和正斜线等特殊字符\n",
    "\n",
    "2、\t请按要求编写一个c_ choose.jsp页面，使用<c:choose>、<c:when>和<c:otherwise>这三个标签完成多个条件选择的程序。\n",
    "要求：\n",
    "1）访问c_choose.jsp页面时不传递参数时，浏览器中显示的信息为unknown user\n",
    "2）访问c_choose.jsp页面时传递一个参数username=itcast时，浏览器中显示的信息为itcast is a manager\n",
    "3）访问c_choose.jsp页面时传递username参数为itcast以外的值时，浏览器中显示的信息为you are a manager\n",
    "\n",
    "[参考答案]\n",
    "c_ choose.jsp页面代码如下：\n",
    "\n",
    "<%@ page language=\"java\" contentType=\"text/html; \n",
    "charset=utf-8\" pageEncoding=\"utf-8\" import=\"java.util.*\"%>\n",
    "<%@ taglib uri=\"http://java.sun.com/jsp/jstl/core\" \n",
    "prefix=\"c\"%>\n",
    "<html>\n",
    "<head></head>\n",
    "<body>\n",
    "\t<c:choose>\n",
    "\t   <c:when test=\"${empty param.username}\">\n",
    " \t\t   unKnown user.\n",
    " \t   </c:when>\n",
    "\t   <c:when test=\"${param.username=='itcast' }\">\n",
    " \t\t   ${ param.username} is manager.\n",
    " \t   </c:when>\n",
    "\t   <c:otherwise>\n",
    "  \t\t   you are a employee.\n",
    " \t   </c:otherwise>\n",
    "\t</c:choose>\n",
    "</body>\n",
    "</html>\n",
    "\n",
    "\n",
    "3、使用EL表达式和JSTL实现将文本框中的内容输出到页面的功能，在此页面的文本框中输入内容，单击页面提交按钮之后，输入框以及按钮消失，文本框中输入的内容显示到页面。\n",
    "\n",
    "[参考答案]\n",
    "\n",
    "页面代码如下：\n",
    "<%@ page language=\"java\" contentType=\"text/html; charset=utf-8\"\n",
    "\tpageEncoding=\"utf-8\"%>\n",
    "<%@taglib prefix=\"c\" uri=\"http://java.sun.com/jsp/jstl/core\"%>\n",
    "<html>\n",
    "<head>\n",
    "<title>welcome</title>\n",
    "</head>\n",
    "<body>\n",
    "\t<form action=\"${pageContext.request.contextPath}/welcome.jsp\">\n",
    "\t\t<c:if test=\"${empty param.num1}\">\n",
    "\t\t\tname：<input type=\"text\" name=\"num1\"> \n",
    "\t\t\t\t<input type=\"submit\" value=\"submit\" /><br /> \n",
    "\t\t</c:if>\t\n",
    "\t\t<c:if test=\"${not empty param.num1}\">\n",
    "\t\t\t${param.num1} welcome！！<br />\n",
    "\t\t</c:if>\n",
    "\t</form>\n",
    "</body>\n",
    "</html>\n"
   ]
  }
 ],
 "metadata": {
  "kernelspec": {
   "display_name": "Python 3 (ipykernel)",
   "language": "python",
   "name": "python3"
  },
  "language_info": {
   "codemirror_mode": {
    "name": "ipython",
    "version": 3
   },
   "file_extension": ".py",
   "mimetype": "text/x-python",
   "name": "python",
   "nbconvert_exporter": "python",
   "pygments_lexer": "ipython3",
   "version": "3.7.9"
  },
  "toc": {
   "base_numbering": 1,
   "nav_menu": {},
   "number_sections": true,
   "sideBar": true,
   "skip_h1_title": false,
   "title_cell": "第06章 EL表达式和JSTL",
   "title_sidebar": "Contents",
   "toc_cell": true,
   "toc_position": {
    "height": "calc(100% - 180px)",
    "left": "10px",
    "top": "150px",
    "width": "253.933px"
   },
   "toc_section_display": true,
   "toc_window_display": false
  }
 },
 "nbformat": 4,
 "nbformat_minor": 5
}
